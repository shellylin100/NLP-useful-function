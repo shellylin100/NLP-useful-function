{
  "nbformat": 4,
  "nbformat_minor": 0,
  "metadata": {
    "colab": {
      "name": "Evaluated Exercise 4 Part 1 s0572048.ipynb",
      "provenance": [],
      "collapsed_sections": [],
      "toc_visible": true,
      "authorship_tag": "ABX9TyO78MNa+Zx88NXwQKxmlYnh",
      "include_colab_link": true
    },
    "kernelspec": {
      "name": "python3",
      "display_name": "Python 3"
    }
  },
  "cells": [
    {
      "cell_type": "markdown",
      "metadata": {
        "id": "view-in-github",
        "colab_type": "text"
      },
      "source": [
        "<a href=\"https://colab.research.google.com/github/shellylin100/NLP-useful-function/blob/main/Evaluated_Exercise_4_Part_1_s0572048.ipynb\" target=\"_parent\"><img src=\"https://colab.research.google.com/assets/colab-badge.svg\" alt=\"Open In Colab\"/></a>"
      ]
    },
    {
      "cell_type": "markdown",
      "metadata": {
        "id": "CLEX36Xb53rw"
      },
      "source": [
        "Evaluated Exercise Part 4 – Natural Language Processing\n",
        "\n",
        "Please run the task in a jupyter notebook (e.g. in Google Colab or a Virtual Machine or ...)\n",
        "You are working as Data Scientist for a large hotel company called Daccor. The company wants to automize the analysis of customer surveys."
      ]
    },
    {
      "cell_type": "markdown",
      "metadata": {
        "id": "meFvnw0f59ML"
      },
      "source": [
        "**Part 1: Topic Model based on customer reviews [10%]**\n",
        "\n",
        "Context\n",
        "Please analyze the customer reviews and try to find relevant topics in the reviews, so that an automized reporting system can be implemented to analyze the reviews in close to real time.\n",
        "- **What is the optimal number of topics?**\n",
        "- Please describe the topics\n"
      ]
    },
    {
      "cell_type": "markdown",
      "metadata": {
        "id": "OCWgj9Zu6U0d"
      },
      "source": [
        "# 1. Package Handling"
      ]
    },
    {
      "cell_type": "code",
      "metadata": {
        "colab": {
          "base_uri": "https://localhost:8080/"
        },
        "id": "YGVPiHbFAayF",
        "outputId": "3bd5c4e2-f29e-4511-8d1d-c4301d23c5bb"
      },
      "source": [
        "#!pip install pyLDAvis\n",
        "#!pip install gensim --upgrade"
      ],
      "execution_count": 5,
      "outputs": [
        {
          "output_type": "stream",
          "text": [
            "Collecting pyLDAvis\n",
            "\u001b[?25l  Downloading https://files.pythonhosted.org/packages/9b/61/2759872fbb239f678385683e22a9a32709d45b8682f529b215949b7db0c6/pyLDAvis-3.0.0.tar.gz (1.7MB)\n",
            "\u001b[K     |████████████████████████████████| 1.7MB 3.7MB/s \n",
            "\u001b[?25hRequirement already satisfied: wheel>=0.23.0 in /usr/local/lib/python3.6/dist-packages (from pyLDAvis) (0.36.2)\n",
            "Requirement already satisfied: numpy>=1.9.2 in /usr/local/lib/python3.6/dist-packages (from pyLDAvis) (1.19.5)\n",
            "Requirement already satisfied: scipy>=0.18.0 in /usr/local/lib/python3.6/dist-packages (from pyLDAvis) (1.4.1)\n",
            "Requirement already satisfied: joblib>=0.8.4 in /usr/local/lib/python3.6/dist-packages (from pyLDAvis) (1.0.0)\n",
            "Requirement already satisfied: jinja2>=2.7.2 in /usr/local/lib/python3.6/dist-packages (from pyLDAvis) (2.11.3)\n",
            "Requirement already satisfied: numexpr in /usr/local/lib/python3.6/dist-packages (from pyLDAvis) (2.7.2)\n",
            "Requirement already satisfied: future in /usr/local/lib/python3.6/dist-packages (from pyLDAvis) (0.16.0)\n",
            "Collecting funcy\n",
            "  Downloading https://files.pythonhosted.org/packages/66/89/479de0afbbfb98d1c4b887936808764627300208bb771fcd823403645a36/funcy-1.15-py2.py3-none-any.whl\n",
            "Requirement already satisfied: pandas>=0.17.0 in /usr/local/lib/python3.6/dist-packages (from pyLDAvis) (1.1.5)\n",
            "Requirement already satisfied: MarkupSafe>=0.23 in /usr/local/lib/python3.6/dist-packages (from jinja2>=2.7.2->pyLDAvis) (1.1.1)\n",
            "Requirement already satisfied: python-dateutil>=2.7.3 in /usr/local/lib/python3.6/dist-packages (from pandas>=0.17.0->pyLDAvis) (2.8.1)\n",
            "Requirement already satisfied: pytz>=2017.2 in /usr/local/lib/python3.6/dist-packages (from pandas>=0.17.0->pyLDAvis) (2018.9)\n",
            "Requirement already satisfied: six>=1.5 in /usr/local/lib/python3.6/dist-packages (from python-dateutil>=2.7.3->pandas>=0.17.0->pyLDAvis) (1.15.0)\n",
            "Building wheels for collected packages: pyLDAvis\n",
            "  Building wheel for pyLDAvis (setup.py) ... \u001b[?25l\u001b[?25hdone\n",
            "  Created wheel for pyLDAvis: filename=pyLDAvis-3.0.0-py2.py3-none-any.whl size=136704 sha256=965de08a4a52e069e456a300a4938161da2f0f11b7ec4eb9fb9442ee44363796\n",
            "  Stored in directory: /root/.cache/pip/wheels/e8/6d/d3/85bc954f74554c8ee9bb6e7d03dcf2c1ec1a05526979a8389f\n",
            "Successfully built pyLDAvis\n",
            "Installing collected packages: funcy, pyLDAvis\n",
            "Successfully installed funcy-1.15 pyLDAvis-3.0.0\n"
          ],
          "name": "stdout"
        }
      ]
    },
    {
      "cell_type": "code",
      "metadata": {
        "id": "bkXVg3tLW4Ov"
      },
      "source": [
        "# import nltk and spacy\n",
        "import nltk\n",
        "import spacy\n",
        "\n",
        "# load nlp model from spaCy, English language\n",
        "nlp = spacy.load(\"en\")\n",
        "\n",
        "# regular expressions\n",
        "# to check for certain patterns in text (sed, grep,..)\n",
        "import re\n",
        "# Scikit-learn package to handle the data\n",
        "import numpy as np\n",
        "import pandas as pd\n",
        "from pprint import pprint\n",
        "\n",
        "# Gensim to do the LDA models (topicmodels)\n",
        "import gensim\n",
        "import gensim.corpora as corpora\n",
        "from gensim.utils import simple_preprocess\n",
        "from gensim.models import CoherenceModel\n",
        "\n",
        "# Import spaCy for Lemmatization\n",
        "import spacy\n",
        "\n",
        "# Plotting tools\n",
        "import pyLDAvis\n",
        "import pyLDAvis.gensim\n",
        "import matplotlib.pyplot as plt\n",
        "import seaborn as sns\n",
        "%matplotlib inline\n",
        "\n",
        "import warnings\n",
        "warnings.filterwarnings(\"ignore\", category = DeprecationWarning)"
      ],
      "execution_count": 7,
      "outputs": []
    },
    {
      "cell_type": "markdown",
      "metadata": {
        "id": "wH2Qpun3LYAe"
      },
      "source": [
        "# 2. Pre-requesities - Download nltk stopwords and spacy model"
      ]
    },
    {
      "cell_type": "code",
      "metadata": {
        "colab": {
          "base_uri": "https://localhost:8080/"
        },
        "id": "BKhewW00J7dI",
        "outputId": "506ca81b-597c-445c-97b6-f756bbd316cc"
      },
      "source": [
        "# Download stopwords from nltk\n",
        "nltk.download(\"stopwords\")"
      ],
      "execution_count": 8,
      "outputs": [
        {
          "output_type": "stream",
          "text": [
            "[nltk_data] Downloading package stopwords to /root/nltk_data...\n",
            "[nltk_data]   Unzipping corpora/stopwords.zip.\n"
          ],
          "name": "stdout"
        },
        {
          "output_type": "execute_result",
          "data": {
            "text/plain": [
              "True"
            ]
          },
          "metadata": {
            "tags": []
          },
          "execution_count": 8
        }
      ]
    },
    {
      "cell_type": "code",
      "metadata": {
        "colab": {
          "base_uri": "https://localhost:8080/"
        },
        "id": "Y-h-S6wJLry1",
        "outputId": "9351ee63-bcb0-403d-953f-6b69b12f2071"
      },
      "source": [
        "from nltk.corpus import stopwords\n",
        "stop_words = stopwords.words('english')\n",
        "print(\"Original number of stopwords:\",len(stop_words))\n",
        "stop_words.extend(['from','subject','re','edu','use'])"
      ],
      "execution_count": 9,
      "outputs": [
        {
          "output_type": "stream",
          "text": [
            "Original number of stopwords: 179\n"
          ],
          "name": "stdout"
        }
      ]
    },
    {
      "cell_type": "code",
      "metadata": {
        "colab": {
          "base_uri": "https://localhost:8080/"
        },
        "id": "Xew2y7AYL8D-",
        "outputId": "e191f960-6668-45a5-b518-6ea3f2c60f06"
      },
      "source": [
        "stop_words[:10]"
      ],
      "execution_count": 10,
      "outputs": [
        {
          "output_type": "execute_result",
          "data": {
            "text/plain": [
              "['i', 'me', 'my', 'myself', 'we', 'our', 'ours', 'ourselves', 'you', \"you're\"]"
            ]
          },
          "metadata": {
            "tags": []
          },
          "execution_count": 10
        }
      ]
    },
    {
      "cell_type": "code",
      "metadata": {
        "colab": {
          "base_uri": "https://localhost:8080/"
        },
        "id": "p697f6ubL-ry",
        "outputId": "f9be3501-a14f-4e15-8cd6-57d4ee775b8e"
      },
      "source": [
        "# extended number of stopwords\n",
        "print(\"Extended number of stopwords:\", len(stop_words))"
      ],
      "execution_count": 11,
      "outputs": [
        {
          "output_type": "stream",
          "text": [
            "Extended number of stopwords: 184\n"
          ],
          "name": "stdout"
        }
      ]
    },
    {
      "cell_type": "markdown",
      "metadata": {
        "id": "PnT1QJqHAbbK"
      },
      "source": [
        "# 3. Data IO"
      ]
    },
    {
      "cell_type": "code",
      "metadata": {
        "colab": {
          "resources": {
            "http://localhost:8080/nbextensions/google.colab/files.js": {
              "data": "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",
              "ok": true,
              "headers": [
                [
                  "content-type",
                  "application/javascript"
                ]
              ],
              "status": 200,
              "status_text": ""
            }
          },
          "base_uri": "https://localhost:8080/",
          "height": 73
        },
        "id": "wNJ53OOPAd2b",
        "outputId": "58dd87a4-5d6e-4435-dc39-f13591e01413"
      },
      "source": [
        "# Upload the file from the local drive\n",
        "from google.colab import files\n",
        "uploaded = files.upload()"
      ],
      "execution_count": 12,
      "outputs": [
        {
          "output_type": "display_data",
          "data": {
            "text/html": [
              "\n",
              "     <input type=\"file\" id=\"files-debcc021-c018-43a5-b18d-c14193ab8db1\" name=\"files[]\" multiple disabled\n",
              "        style=\"border:none\" />\n",
              "     <output id=\"result-debcc021-c018-43a5-b18d-c14193ab8db1\">\n",
              "      Upload widget is only available when the cell has been executed in the\n",
              "      current browser session. Please rerun this cell to enable.\n",
              "      </output>\n",
              "      <script src=\"/nbextensions/google.colab/files.js\"></script> "
            ],
            "text/plain": [
              "<IPython.core.display.HTML object>"
            ]
          },
          "metadata": {
            "tags": []
          }
        },
        {
          "output_type": "stream",
          "text": [
            "Saving hotelSatisfaction_English.xlsx to hotelSatisfaction_English.xlsx\n"
          ],
          "name": "stdout"
        }
      ]
    },
    {
      "cell_type": "code",
      "metadata": {
        "id": "cChHoM_MGuaS"
      },
      "source": [
        "df = pd.read_excel(\"hotelSatisfaction_English.xlsx\")"
      ],
      "execution_count": 13,
      "outputs": []
    },
    {
      "cell_type": "code",
      "metadata": {
        "id": "lgXWa-uTG4H0",
        "colab": {
          "base_uri": "https://localhost:8080/",
          "height": 204
        },
        "outputId": "195c99d6-5aca-42d4-c557-ab928810f176"
      },
      "source": [
        "df.head(5)"
      ],
      "execution_count": 14,
      "outputs": [
        {
          "output_type": "execute_result",
          "data": {
            "text/html": [
              "<div>\n",
              "<style scoped>\n",
              "    .dataframe tbody tr th:only-of-type {\n",
              "        vertical-align: middle;\n",
              "    }\n",
              "\n",
              "    .dataframe tbody tr th {\n",
              "        vertical-align: top;\n",
              "    }\n",
              "\n",
              "    .dataframe thead th {\n",
              "        text-align: right;\n",
              "    }\n",
              "</style>\n",
              "<table border=\"1\" class=\"dataframe\">\n",
              "  <thead>\n",
              "    <tr style=\"text-align: right;\">\n",
              "      <th></th>\n",
              "      <th>Comments</th>\n",
              "      <th>OverallSentiment</th>\n",
              "    </tr>\n",
              "  </thead>\n",
              "  <tbody>\n",
              "    <tr>\n",
              "      <th>0</th>\n",
              "      <td>Rooms were clean.</td>\n",
              "      <td>positive</td>\n",
              "    </tr>\n",
              "    <tr>\n",
              "      <th>1</th>\n",
              "      <td>Excellent value for money</td>\n",
              "      <td>positive</td>\n",
              "    </tr>\n",
              "    <tr>\n",
              "      <th>2</th>\n",
              "      <td>Parking too small. No free wifi in rooms. No c...</td>\n",
              "      <td>negative</td>\n",
              "    </tr>\n",
              "    <tr>\n",
              "      <th>3</th>\n",
              "      <td>Comfortable rooms, outstanding breakfast, nice...</td>\n",
              "      <td>positive</td>\n",
              "    </tr>\n",
              "    <tr>\n",
              "      <th>4</th>\n",
              "      <td>Quiet location right on the beach.</td>\n",
              "      <td>positive</td>\n",
              "    </tr>\n",
              "  </tbody>\n",
              "</table>\n",
              "</div>"
            ],
            "text/plain": [
              "                                            Comments OverallSentiment\n",
              "0                                  Rooms were clean.         positive\n",
              "1                          Excellent value for money         positive\n",
              "2  Parking too small. No free wifi in rooms. No c...         negative\n",
              "3  Comfortable rooms, outstanding breakfast, nice...         positive\n",
              "4                 Quiet location right on the beach.         positive"
            ]
          },
          "metadata": {
            "tags": []
          },
          "execution_count": 14
        }
      ]
    },
    {
      "cell_type": "code",
      "metadata": {
        "colab": {
          "base_uri": "https://localhost:8080/"
        },
        "id": "VTkHiHJQHeVL",
        "outputId": "9760fd47-15ed-4d28-ecfa-19bcfd840863"
      },
      "source": [
        "df.info() # There are 860 comments"
      ],
      "execution_count": 15,
      "outputs": [
        {
          "output_type": "stream",
          "text": [
            "<class 'pandas.core.frame.DataFrame'>\n",
            "RangeIndex: 860 entries, 0 to 859\n",
            "Data columns (total 2 columns):\n",
            " #   Column            Non-Null Count  Dtype \n",
            "---  ------            --------------  ----- \n",
            " 0   Comments          860 non-null    object\n",
            " 1   OverallSentiment  860 non-null    object\n",
            "dtypes: object(2)\n",
            "memory usage: 13.6+ KB\n"
          ],
          "name": "stdout"
        }
      ]
    },
    {
      "cell_type": "code",
      "metadata": {
        "colab": {
          "base_uri": "https://localhost:8080/"
        },
        "id": "Cr2LvHhVYk_K",
        "outputId": "1eca9777-2456-4697-a294-631bcdc1f316"
      },
      "source": [
        "# Positive and negative overall sentiment\n",
        "len(df.OverallSentiment.unique())"
      ],
      "execution_count": 16,
      "outputs": [
        {
          "output_type": "execute_result",
          "data": {
            "text/plain": [
              "2"
            ]
          },
          "metadata": {
            "tags": []
          },
          "execution_count": 16
        }
      ]
    },
    {
      "cell_type": "code",
      "metadata": {
        "colab": {
          "base_uri": "https://localhost:8080/",
          "height": 350
        },
        "id": "gBKygKlSGILx",
        "outputId": "4c6dbd43-af27-428e-88ea-d8ba76a5a4a8"
      },
      "source": [
        "sns.countplot(df['OverallSentiment'])"
      ],
      "execution_count": 17,
      "outputs": [
        {
          "output_type": "stream",
          "text": [
            "/usr/local/lib/python3.6/dist-packages/seaborn/_decorators.py:43: FutureWarning: Pass the following variable as a keyword arg: x. From version 0.12, the only valid positional argument will be `data`, and passing other arguments without an explicit keyword will result in an error or misinterpretation.\n",
            "  FutureWarning\n"
          ],
          "name": "stderr"
        },
        {
          "output_type": "execute_result",
          "data": {
            "text/plain": [
              "<matplotlib.axes._subplots.AxesSubplot at 0x7ff9103ff128>"
            ]
          },
          "metadata": {
            "tags": []
          },
          "execution_count": 17
        },
        {
          "output_type": "display_data",
          "data": {
            "image/png": "[encoded data removed]",
            "text/plain": [
              "<Figure size 432x288 with 1 Axes>"
            ]
          },
          "metadata": {
            "tags": [],
            "needs_background": "light"
          }
        }
      ]
    },
    {
      "cell_type": "markdown",
      "metadata": {
        "id": "cK7QIIfpPZDj"
      },
      "source": [
        "# 4. Tokenize words into a list of words and remove the punctuations"
      ]
    },
    {
      "cell_type": "code",
      "metadata": {
        "id": "EEA8-3FHNN7d"
      },
      "source": [
        "# Convert Comments column data into list\n",
        "data = df.Comments.values.tolist()"
      ],
      "execution_count": 18,
      "outputs": []
    },
    {
      "cell_type": "code",
      "metadata": {
        "colab": {
          "base_uri": "https://localhost:8080/"
        },
        "id": "8vj4CETtME7m",
        "outputId": "28daa159-8072-4b76-8a28-30a54181d951"
      },
      "source": [
        "pprint(data[1:4])"
      ],
      "execution_count": 19,
      "outputs": [
        {
          "output_type": "stream",
          "text": [
            "['Excellent value for money',\n",
            " 'Parking too small. No free wifi in rooms. No crib for our child.',\n",
            " 'Comfortable rooms, outstanding breakfast, nice service']\n"
          ],
          "name": "stdout"
        }
      ]
    },
    {
      "cell_type": "code",
      "metadata": {
        "id": "zAe7Yvv8NNr-"
      },
      "source": [
        "def sent_to_words(sentences):\n",
        "  for sentence in sentences:\n",
        "    yield(gensim.utils.simple_preprocess(str(sentence), deacc = True))"
      ],
      "execution_count": 20,
      "outputs": []
    },
    {
      "cell_type": "code",
      "metadata": {
        "id": "Vbx3H-o2YivZ"
      },
      "source": [
        "data_words = list(sent_to_words(data))"
      ],
      "execution_count": 21,
      "outputs": []
    },
    {
      "cell_type": "code",
      "metadata": {
        "colab": {
          "base_uri": "https://localhost:8080/"
        },
        "id": "peQnjGQLZL59",
        "outputId": "7233cce6-9558-44ef-cc5d-11ab50e2cb84"
      },
      "source": [
        "pprint(data_words[:5])"
      ],
      "execution_count": 22,
      "outputs": [
        {
          "output_type": "stream",
          "text": [
            "[['rooms', 'were', 'clean'],\n",
            " ['excellent', 'value', 'for', 'money'],\n",
            " ['parking',\n",
            "  'too',\n",
            "  'small',\n",
            "  'no',\n",
            "  'free',\n",
            "  'wifi',\n",
            "  'in',\n",
            "  'rooms',\n",
            "  'no',\n",
            "  'crib',\n",
            "  'for',\n",
            "  'our',\n",
            "  'child'],\n",
            " ['comfortable', 'rooms', 'outstanding', 'breakfast', 'nice', 'service'],\n",
            " ['quiet', 'location', 'right', 'on', 'the', 'beach']]\n"
          ],
          "name": "stdout"
        }
      ]
    },
    {
      "cell_type": "markdown",
      "metadata": {
        "id": "he8Y-tSNZXvw"
      },
      "source": [
        "## Remove stopwords"
      ]
    },
    {
      "cell_type": "code",
      "metadata": {
        "id": "U9-oaV4PZOiL"
      },
      "source": [
        "def remove_stopwords(texts):\n",
        "  return[[word for word in simple_preprocess(str(doc)) if word not in stop_words] for doc in texts]"
      ],
      "execution_count": 23,
      "outputs": []
    },
    {
      "cell_type": "code",
      "metadata": {
        "id": "v8FRkTuKbZvV"
      },
      "source": [
        "data_words_nostops = remove_stopwords(data_words)"
      ],
      "execution_count": 24,
      "outputs": []
    },
    {
      "cell_type": "code",
      "metadata": {
        "colab": {
          "base_uri": "https://localhost:8080/"
        },
        "id": "_Pkd2Ln9bg0i",
        "outputId": "d9030282-4a53-4ea9-d063-c00e1873a0ce"
      },
      "source": [
        "# were is a stop words so it's removed\n",
        "data_words_nostops[:1]"
      ],
      "execution_count": 25,
      "outputs": [
        {
          "output_type": "execute_result",
          "data": {
            "text/plain": [
              "[['rooms', 'clean']]"
            ]
          },
          "metadata": {
            "tags": []
          },
          "execution_count": 25
        }
      ]
    },
    {
      "cell_type": "markdown",
      "metadata": {
        "id": "u3oV3a9rdcZ1"
      },
      "source": [
        "## Lamatization\n",
        "- Use spaCy  \n",
        "- Transform the text into a \"doc\" using ulp() function"
      ]
    },
    {
      "cell_type": "code",
      "metadata": {
        "id": "bIiGQ24IbjTG"
      },
      "source": [
        "def lemmatization(texts, allowed_postags = ['NOUN','ADJ','VERB','ADV']):\n",
        "  texts_out = []\n",
        "  for sent in texts:\n",
        "    doc = nlp(\" \".join(sent))\n",
        "    texts_out.append([token.lemma_ for token in doc if token.pos_ in allowed_postags])\n",
        "  return texts_out"
      ],
      "execution_count": 26,
      "outputs": []
    },
    {
      "cell_type": "code",
      "metadata": {
        "id": "KDdNhIHlemwB"
      },
      "source": [
        "# Do lemmatization keep NOUN, ADJ, VERB, ADV:\n",
        "data_lemmatized = lemmatization(texts = data_words_nostops, allowed_postags = ['NOUN','ADJ','VERB','ADV'])"
      ],
      "execution_count": 27,
      "outputs": []
    },
    {
      "cell_type": "code",
      "metadata": {
        "colab": {
          "base_uri": "https://localhost:8080/"
        },
        "id": "I_AgOzt1e2Vv",
        "outputId": "b8aae5de-a56b-4122-fe4b-bc55b171f2ac"
      },
      "source": [
        "pprint(data_lemmatized[1:2])"
      ],
      "execution_count": 28,
      "outputs": [
        {
          "output_type": "stream",
          "text": [
            "[['excellent', 'value', 'money']]\n"
          ],
          "name": "stdout"
        }
      ]
    },
    {
      "cell_type": "markdown",
      "metadata": {
        "id": "BEf37J5JfHko"
      },
      "source": [
        "## Create the dictionary and Corpus needed for Topic Modeling\n",
        "2 main inputs for LDA topic model are the **dictionary (id2word)** and the **corpus**"
      ]
    },
    {
      "cell_type": "code",
      "metadata": {
        "id": "1Wy8Qhr7e8sG"
      },
      "source": [
        "# Create Dictionary\n",
        "id2word = corpora.Dictionary(data_lemmatized)"
      ],
      "execution_count": 29,
      "outputs": []
    },
    {
      "cell_type": "code",
      "metadata": {
        "id": "KA8HYVbzN3gn"
      },
      "source": [
        "# Create Corpus\n",
        "texts = data_lemmatized"
      ],
      "execution_count": 30,
      "outputs": []
    },
    {
      "cell_type": "code",
      "metadata": {
        "id": "EsBH_vPZN6Yl"
      },
      "source": [
        "# Term Document Frequency\n",
        "corpus = [id2word.doc2bow(text) for text in texts ]"
      ],
      "execution_count": 31,
      "outputs": []
    },
    {
      "cell_type": "markdown",
      "metadata": {
        "id": "lc21obguOTa6"
      },
      "source": [
        "Gensim creates a unique id for each word in the document.   \n",
        "The produced corpus shown above is a mapping of [word_id, word_frequency] \n",
        "\n",
        "ex : word id 0 occurs once in the first document. "
      ]
    },
    {
      "cell_type": "code",
      "metadata": {
        "colab": {
          "base_uri": "https://localhost:8080/"
        },
        "id": "_pl7mNJCOB7S",
        "outputId": "854c86a4-a351-4d0a-822d-e648f1761c83"
      },
      "source": [
        "# View created corpus\n",
        "pprint(corpus[:3])"
      ],
      "execution_count": 32,
      "outputs": [
        {
          "output_type": "stream",
          "text": [
            "[[(0, 1), (1, 1)],\n",
            " [(2, 1), (3, 1), (4, 1)],\n",
            " [(1, 1), (5, 1), (6, 1), (7, 1), (8, 1), (9, 1), (10, 1)]]\n"
          ],
          "name": "stdout"
        }
      ]
    },
    {
      "cell_type": "code",
      "metadata": {
        "colab": {
          "base_uri": "https://localhost:8080/",
          "height": 37
        },
        "id": "7kXtsSgZOHg8",
        "outputId": "2ad17d53-287b-4e91-bd27-ebce7c7276b9"
      },
      "source": [
        "id2word[2]"
      ],
      "execution_count": 33,
      "outputs": [
        {
          "output_type": "execute_result",
          "data": {
            "application/vnd.google.colaboratory.intrinsic+json": {
              "type": "string"
            },
            "text/plain": [
              "'excellent'"
            ]
          },
          "metadata": {
            "tags": []
          },
          "execution_count": 33
        }
      ]
    },
    {
      "cell_type": "code",
      "metadata": {
        "colab": {
          "base_uri": "https://localhost:8080/"
        },
        "id": "TzJt3gMZPkA7",
        "outputId": "8181dcf5-8408-4578-881d-2705a779c1f5"
      },
      "source": [
        "# Make a human-readable of the corpus\n",
        "[[(id2word[id], freq) for id, freq in cp] for cp in corpus[:2]]"
      ],
      "execution_count": 34,
      "outputs": [
        {
          "output_type": "execute_result",
          "data": {
            "text/plain": [
              "[[('clean', 1), ('room', 1)], [('excellent', 1), ('money', 1), ('value', 1)]]"
            ]
          },
          "metadata": {
            "tags": []
          },
          "execution_count": 34
        }
      ]
    },
    {
      "cell_type": "markdown",
      "metadata": {
        "id": "GhRjgSPKRSuM"
      },
      "source": [
        "# 5. Build the baseline topic model\n",
        "- Need Corpus, Dictionary\n",
        "- Need provide the number of topics\n",
        "- Hyperparameters : alpha, eta (default = 1.0/num_topics)\n",
        "- chunksize : the number of documents to be used in each training chunk\n",
        "- update_every : determines how often the model parameters should be updated\n",
        "- passes : total number of training passes"
      ]
    },
    {
      "cell_type": "code",
      "metadata": {
        "id": "TUF6j0diPqQY"
      },
      "source": [
        "# Build the LDA model\n",
        "lda_model = gensim.models.ldamodel.LdaModel(corpus = corpus,\n",
        "                                            id2word = id2word,\n",
        "                                            num_topics = 20,\n",
        "                                            random_state = 100,\n",
        "                                            update_every = 1, \n",
        "                                            chunksize = 100, \n",
        "                                            passes = 10,\n",
        "                                            alpha = 'auto',\n",
        "                                            per_word_topics = True)"
      ],
      "execution_count": 35,
      "outputs": []
    },
    {
      "cell_type": "markdown",
      "metadata": {
        "id": "xIIjnRhOS4fD"
      },
      "source": [
        "lda_model trained above is built with **20** different topics where each topic is a combination of keywords and each keyword contributes a certain weightage to the topic.\n",
        "- You can see the keywords for each topic and the weightage[importance] of each keyword using lda_model.print_topics()"
      ]
    },
    {
      "cell_type": "code",
      "metadata": {
        "colab": {
          "base_uri": "https://localhost:8080/"
        },
        "id": "QoHpFeviStwV",
        "outputId": "7358e45d-9239-411c-d038-ff03dd3f9930"
      },
      "source": [
        "# Print the keywords in the 20 topics\n",
        "pprint(lda_model.print_topics())\n",
        "doc_lda = lda_model[corpus]"
      ],
      "execution_count": 36,
      "outputs": [
        {
          "output_type": "stream",
          "text": [
            "[(0,\n",
            "  '0.224*\"comfortable\" + 0.083*\"room\" + 0.076*\"breakfast\" + 0.049*\"wireless\" + '\n",
            "  '0.049*\"ready\" + 0.034*\"last\" + 0.034*\"disappointed\" + 0.034*\"expenseive\" + '\n",
            "  '0.019*\"stylish\" + 0.018*\"week\"'),\n",
            " (1,\n",
            "  '0.395*\"great\" + 0.247*\"good\" + 0.067*\"price\" + 0.034*\"soundproof\" + '\n",
            "  '0.024*\"ratio\" + 0.023*\"performance\" + 0.021*\"high\" + 0.016*\"design\" + '\n",
            "  '0.013*\"rather\" + 0.011*\"real\"'),\n",
            " (2,\n",
            "  '0.121*\"expensive\" + 0.091*\"love\" + 0.057*\"quiet\" + 0.031*\"best\" + '\n",
            "  '0.031*\"bedding\" + 0.031*\"comfy\" + 0.031*\"ever\" + 0.031*\"avoid\" + '\n",
            "  '0.031*\"acknowledgement\" + 0.031*\"status\"'),\n",
            " (3,\n",
            "  '0.112*\"extremely\" + 0.074*\"guest\" + 0.058*\"time\" + 0.049*\"early\" + '\n",
            "  '0.046*\"find\" + 0.045*\"professional\" + 0.040*\"wait\" + 0.038*\"unfortunately\" '\n",
            "  '+ 0.035*\"treatment\" + 0.035*\"wife\"'),\n",
            " (4,\n",
            "  '0.378*\"hotel\" + 0.080*\"average\" + 0.058*\"quality\" + 0.051*\"child\" + '\n",
            "  '0.024*\"need\" + 0.022*\"many\" + 0.019*\"renovation\" + 0.017*\"fine\" + '\n",
            "  '0.013*\"restoration\" + 0.013*\"tired\"'),\n",
            " (5,\n",
            "  '0.224*\"helpful\" + 0.130*\"internet\" + 0.100*\"free\" + 0.077*\"access\" + '\n",
            "  '0.070*\"perfect\" + 0.035*\"wifi\" + 0.023*\"tv\" + 0.022*\"accommodate\" + '\n",
            "  '0.017*\"connection\" + 0.017*\"provide\"'),\n",
            " (6,\n",
            "  '0.100*\"room\" + 0.068*\"spacious\" + 0.066*\"welcoming\" + 0.053*\"area\" + '\n",
            "  '0.041*\"air\" + 0.040*\"maintain\" + 0.040*\"quite\" + 0.032*\"condition\" + '\n",
            "  '0.031*\"smoke\" + 0.027*\"small\"'),\n",
            " (7,\n",
            "  '0.556*\"room\" + 0.055*\"nice\" + 0.034*\"old\" + 0.029*\"quick\" + 0.026*\"noisy\" + '\n",
            "  '0.013*\"proof\" + 0.013*\"sound\" + 0.013*\"appreciate\" + 0.011*\"size\" + '\n",
            "  '0.008*\"smoking\"'),\n",
            " (8,\n",
            "  '0.234*\"food\" + 0.075*\"breakfast\" + 0.075*\"enough\" + 0.057*\"long\" + '\n",
            "  '0.047*\"take\" + 0.041*\"time\" + 0.031*\"effective\" + 0.029*\"wait\" + '\n",
            "  '0.024*\"waitress\" + 0.015*\"helpfulness\"'),\n",
            " (9,\n",
            "  '0.149*\"small\" + 0.131*\"restaurant\" + 0.040*\"far\" + 0.040*\"chair\" + '\n",
            "  '0.037*\"amenity\" + 0.035*\"low\" + 0.021*\"end\" + 0.021*\"locatoin\" + '\n",
            "  '0.021*\"specialty\" + 0.021*\"city\"'),\n",
            " (10,\n",
            "  '0.153*\"well\" + 0.062*\"surrounding\" + 0.040*\"would\" + 0.035*\"feel\" + '\n",
            "  '0.030*\"ground\" + 0.026*\"return\" + 0.022*\"property\" + 0.022*\"elegant\" + '\n",
            "  '0.022*\"overall\" + 0.017*\"satisfactory\"'),\n",
            " (11,\n",
            "  '0.183*\"excellent\" + 0.171*\"bad\" + 0.082*\"bar\" + 0.056*\"smell\" + '\n",
            "  '0.036*\"floor\" + 0.023*\"broke\" + 0.023*\"slippery\" + 0.023*\"mom\" + '\n",
            "  '0.023*\"leg\" + 0.023*\"fall\"'),\n",
            " (12,\n",
            "  '0.275*\"bed\" + 0.185*\"loved\" + 0.071*\"facility\" + 0.045*\"people\" + '\n",
            "  '0.034*\"expect\" + 0.030*\"sheet\" + 0.023*\"uncomfortable\" + 0.022*\"shower\" + '\n",
            "  '0.017*\"parking\" + 0.017*\"cleanliness\"'),\n",
            " (13,\n",
            "  '0.184*\"location\" + 0.096*\"nice\" + 0.079*\"wonderful\" + 0.076*\"experience\" + '\n",
            "  '0.072*\"upgrade\" + 0.056*\"lobby\" + 0.046*\"much\" + 0.038*\"beautiful\" + '\n",
            "  '0.029*\"selection\" + 0.027*\"noise\"'),\n",
            " (14,\n",
            "  '0.344*\"clean\" + 0.050*\"reservation\" + 0.050*\"back\" + 0.046*\"come\" + '\n",
            "  '0.037*\"shuttle\" + 0.036*\"never\" + 0.035*\"lose\" + 0.031*\"work\" + '\n",
            "  '0.031*\"definitely\" + 0.028*\"pay\"'),\n",
            " (15,\n",
            "  '0.366*\"staff\" + 0.239*\"friendly\" + 0.041*\"desk\" + 0.037*\"front\" + '\n",
            "  '0.026*\"employee\" + 0.024*\"dirty\" + 0.020*\"reception\" + 0.017*\"pleasant\" + '\n",
            "  '0.014*\"smelly\" + 0.013*\"courteous\"'),\n",
            " (16,\n",
            "  '0.215*\"check\" + 0.149*\"outstanding\" + 0.141*\"stay\" + 0.041*\"cheap\" + '\n",
            "  '0.037*\"hour\" + 0.037*\"aspect\" + 0.018*\"super\" + 0.018*\"delightful\" + '\n",
            "  '0.017*\"atmosphere\" + 0.015*\"unpleasant\"'),\n",
            " (17,\n",
            "  '0.383*\"service\" + 0.060*\"fast\" + 0.052*\"tiny\" + 0.051*\"attentive\" + '\n",
            "  '0.038*\"pool\" + 0.032*\"slow\" + 0.027*\"really\" + 0.018*\"make\" + 0.017*\"pick\" '\n",
            "  '+ 0.013*\"response\"'),\n",
            " (18,\n",
            "  '0.115*\"always\" + 0.065*\"available\" + 0.062*\"soft\" + 0.055*\"charge\" + '\n",
            "  '0.045*\"cost\" + 0.041*\"extra\" + 0.038*\"breakfast\" + 0.038*\"complimentary\" + '\n",
            "  '0.035*\"close\" + 0.031*\"buffet\"'),\n",
            " (19,\n",
            "  '0.200*\"bathroom\" + 0.111*\"poor\" + 0.054*\"recommend\" + 0.050*\"rude\" + '\n",
            "  '0.050*\"luxurious\" + 0.042*\"arrogant\" + 0.027*\"run\" + 0.024*\"ventilation\" + '\n",
            "  '0.024*\"concierge\" + 0.021*\"immaculate\"')]\n"
          ],
          "name": "stdout"
        }
      ]
    },
    {
      "cell_type": "markdown",
      "metadata": {
        "id": "KiBb23mATzpV"
      },
      "source": [
        "# 6. Compute Model Preplexity and Coherence Score\n",
        "- it provides a convenient measure to judge how good a given topic model is. \n",
        "- it seems topic coherence score is quite helpful for topic modeling\n",
        "- Perplexity is to measure how good the model is. the lower the better"
      ]
    },
    {
      "cell_type": "code",
      "metadata": {
        "colab": {
          "base_uri": "https://localhost:8080/"
        },
        "id": "DXR0e9dwTYh_",
        "outputId": "b49e944a-2ecf-4231-f3e6-b446fb47d94c"
      },
      "source": [
        "# Compute Perplexity\n",
        "print('\\nPerplexity:', lda_model.log_perplexity(corpus))\n",
        "\n",
        "# Compute Coherence Score\n",
        "coherence_model_lda = CoherenceModel(model = lda_model, texts=data_lemmatized, dictionary=id2word, coherence='c_v')\n",
        "coherence_lda = coherence_model_lda.get_coherence()\n",
        "print('\\nCoherence Score:', coherence_lda)"
      ],
      "execution_count": 37,
      "outputs": [
        {
          "output_type": "stream",
          "text": [
            "\n",
            "Perplexity: -6.228800603217287\n",
            "\n",
            "Coherence Score: 0.5787763533751612\n"
          ],
          "name": "stdout"
        }
      ]
    },
    {
      "cell_type": "markdown",
      "metadata": {
        "id": "wsWQg-70WIk5"
      },
      "source": [
        "## Visualize the topics-keywords"
      ]
    },
    {
      "cell_type": "code",
      "metadata": {
        "colab": {
          "base_uri": "https://localhost:8080/",
          "height": 17
        },
        "id": "2bvLeKVKVnHh",
        "outputId": "aa37aad2-446a-449a-f44c-c7d453b7a8e7"
      },
      "source": [
        "# Visualize the topics\n",
        "pyLDAvis.enable_notebook() # initialize\n",
        "vis = pyLDAvis.gensim.prepare(lda_model, corpus, id2word)\n",
        "vis"
      ],
      "execution_count": 38,
      "outputs": [
        {
          "output_type": "execute_result",
          "data": {
            "text/html": [
              "\n",
              "<link rel=\"stylesheet\" type=\"text/css\" href=\"https://cdn.rawgit.com/bmabey/pyLDAvis/files/ldavis.v1.0.0.css\">\n",
              "\n",
              "\n",
              "<div id=\"ldavis_el611407076477956323064113991\"></div>\n",
              "<script type=\"text/javascript\">\n",
              "\n",
              "var ldavis_el611407076477956323064113991_data = {\"mdsDat\": {\"x\": [-0.17698637235600934, 0.322658579957672, -0.09538874089300271, -0.073240801344585, -0.045588279738085595, -0.05956006847672927, 0.04230591343421201, -0.07089382747202674, -0.039863334069325206, -0.04399259026776548, 0.19354794250657867, -0.02194304693413406, -0.006779953035260254, -0.028222197607502487, -0.0025747996628794675, -0.024810726479119347, -0.029038739097980017, 0.17210664924926222, 0.0036613879866737612, -0.015396995699992836], \"y\": [-0.3641263463918373, -0.15675946333656238, -0.08015781169933515, -0.0070282385369574985, 0.042541124803208034, 0.017469884169952165, -0.0449048125349594, -0.023544562306458107, 0.04749589665595716, 0.043260760799754765, -0.02976883523240066, 0.03001991530602101, 0.07927372057750948, 0.06152746463453245, 0.09274725068537347, 0.08880892874967782, 0.06573741720992211, -0.006004747254026711, 0.066506260577693, 0.07690619312293594], \"topics\": [1, 2, 3, 4, 5, 6, 7, 8, 9, 10, 11, 12, 13, 14, 15, 16, 17, 18, 19, 20], \"cluster\": [1, 1, 1, 1, 1, 1, 1, 1, 1, 1, 1, 1, 1, 1, 1, 1, 1, 1, 1, 1], \"Freq\": [12.402921441759213, 9.28148511397087, 8.55811873219878, 6.196574666028155, 5.789743060948157, 5.672033828866412, 5.395555077981906, 5.320649462174764, 4.747172257603536, 4.6091841866760355, 4.5399640159286525, 4.476303969279565, 3.487878070159068, 3.301818841871022, 3.0873201137935005, 2.9738787177724495, 2.759171673077979, 2.6295934114960238, 2.4458335433634764, 2.324799815050433]}, \"tinfo\": {\"Term\": [\"room\", \"staff\", \"great\", \"hotel\", \"friendly\", \"clean\", \"service\", \"good\", \"bed\", \"helpful\", \"check\", \"location\", \"loved\", \"food\", \"excellent\", \"bad\", \"bathroom\", \"comfortable\", \"outstanding\", \"internet\", \"nice\", \"stay\", \"small\", \"free\", \"breakfast\", \"well\", \"always\", \"poor\", \"price\", \"restaurant\", \"staff\", \"friendly\", \"desk\", \"front\", \"employee\", \"dirty\", \"reception\", \"pleasant\", \"smelly\", \"courteous\", \"knowledgeable\", \"cleaning\", \"locate\", \"club\", \"housekeeping\", \"job\", \"maintenance\", \"centrally\", \"hospitable\", \"exceptionally\", \"decorate\", \"incompetent\", \"break\", \"friendliness\", \"impeccable\", \"unfriendly\", \"first\", \"accomdating\", \"unobtrusive\", \"exceedingly\", \"support\", \"old\", \"quick\", \"noisy\", \"room\", \"proof\", \"sound\", \"appreciate\", \"size\", \"smoking\", \"next\", \"fashioned\", \"night\", \"date\", \"fitness\", \"open\", \"courtesy\", \"heat\", \"furniture\", \"interior\", \"wear\", \"stain\", \"furnish\", \"suite\", \"slipper\", \"policy\", \"unexpected\", \"grade\", \"dining\", \"lounge\", \"inhospitable\", \"nice\", \"dark\", \"great\", \"good\", \"price\", \"soundproof\", \"ratio\", \"performance\", \"high\", \"design\", \"rather\", \"real\", \"spot\", \"nicer\", \"bite\", \"recommendation\", \"attitude\", \"include\", \"main\", \"thing\", \"taste\", \"stretch\", \"quietness\", \"whole\", \"crew\", \"central\", \"therefore\", \"varied\", \"countryside\", \"appoint\", \"offensive\", \"porter\", \"shape\", \"point\", \"space\", \"pleasure\", \"equip\", \"neighborhood\", \"unit\", \"exercise\", \"decoration\", \"right\", \"reasonable\", \"clean\", \"reservation\", \"back\", \"come\", \"shuttle\", \"never\", \"lose\", \"work\", \"definitely\", \"pay\", \"husband\", \"amenditie\", \"book\", \"convienient\", \"convenient\", \"order\", \"nightmare\", \"previous\", \"day\", \"spend\", \"broken\", \"departure\", \"thank\", \"decent\", \"business\", \"leisure\", \"staffed\", \"dream\", \"seek\", \"tranquility\", \"apartment\", \"hotel\", \"average\", \"quality\", \"child\", \"need\", \"many\", \"renovation\", \"fine\", \"restoration\", \"tired\", \"urgently\", \"pleasure\", \"arrive\", \"bus\", \"possible\", \"user\", \"luxury\", \"class\", \"website\", \"else\", \"full\", \"perfection\", \"badly\", \"management\", \"improve\", \"marvellous\", \"term\", \"poorly\", \"try\", \"spectacular\", \"landscape\", \"helpful\", \"internet\", \"free\", \"access\", \"perfect\", \"wifi\", \"tv\", \"accommodate\", \"connection\", \"provide\", \"family\", \"expectation\", \"personnel\", \"meet\", \"completely\", \"lack\", \"exceed\", \"set\", \"impossible\", \"surf\", \"encounter\", \"finish\", \"star\", \"remote\", \"park\", \"overcrowd\", \"useful\", \"crib\", \"acceptable\", \"stretch\", \"fully\", \"location\", \"wonderful\", \"experience\", \"upgrade\", \"lobby\", \"much\", \"beautiful\", \"selection\", \"noise\", \"unavailable\", \"big\", \"space\", \"evening\", \"top\", \"notch\", \"nice\", \"everywhere\", \"coffee\", \"better\", \"overprice\", \"infrastructure\", \"fully\", \"stretch\", \"quietness\", \"whole\", \"crew\", \"central\", \"therefore\", \"countryside\", \"varied\", \"point\", \"nicer\", \"appreciate\", \"run\", \"able\", \"comfort\", \"recognition\", \"bed\", \"loved\", \"facility\", \"people\", \"expect\", \"sheet\", \"uncomfortable\", \"shower\", \"parking\", \"cleanliness\", \"could\", \"pressure\", \"water\", \"bit\", \"corridor\", \"carpet\", \"mattress\", \"sport\", \"awesome\", \"accommodating\", \"bike\", \"nutshell\", \"put\", \"tear\", \"able\", \"line\", \"recognition\", \"amazing\", \"better\", \"dark\", \"service\", \"fast\", \"tiny\", \"attentive\", \"pool\", \"slow\", \"really\", \"make\", \"pick\", \"case\", \"issue\", \"response\", \"site\", \"spa\", \"slowly\", \"like\", \"ineffective\", \"unreliable\", \"impression\", \"outdoor\", \"thought\", \"reliable\", \"feature\", \"indoor\", \"commend\", \"little\", \"smart\", \"quietness\", \"whole\", \"stretch\", \"sleep\", \"remodel\", \"convenient\", \"check\", \"outstanding\", \"stay\", \"cheap\", \"hour\", \"aspect\", \"super\", \"delightful\", \"atmosphere\", \"unpleasant\", \"beach\", \"absolutely\", \"morning\", \"late\", \"trouble\", \"uncomplicated\", \"offer\", \"completion\", \"rapid\", \"also\", \"distinct\", \"comfort\", \"uncomprehensive\", \"fresh\", \"fruit\", \"monotonous\", \"limit\", \"decoration\", \"imaginative\", \"rich\", \"spacious\", \"welcoming\", \"area\", \"air\", \"maintain\", \"quite\", \"condition\", \"smoke\", \"view\", \"pillow\", \"enjoy\", \"conditioning\", \"inefficient\", \"dissatisfied\", \"conference\", \"reasonable\", \"chocolate\", \"tobacco\", \"disappointing\", \"cigarette\", \"arrival\", \"common\", \"spotless\", \"regional\", \"cause\", \"gorgeous\", \"cozy\", \"wine\", \"turn\", \"cuisine\", \"smell\", \"small\", \"room\", \"excellent\", \"bad\", \"bar\", \"floor\", \"broke\", \"fall\", \"leg\", \"mom\", \"slippery\", \"year\", \"attend\", \"value\", \"place\", \"money\", \"smell\", \"horrible\", \"music\", \"terrible\", \"way\", \"coffee\", \"operation\", \"grand\", \"structure\", \"visit\", \"dinner\", \"stretch\", \"quietness\", \"whole\", \"crew\", \"central\", \"old\", \"reliable\", \"bite\", \"else\", \"convenient\", \"always\", \"available\", \"soft\", \"charge\", \"cost\", \"extra\", \"complimentary\", \"close\", \"buffet\", \"welcome\", \"respect\", \"kid\", \"category\", \"even\", \"inform\", \"non\", \"otherwise\", \"care\", \"request\", \"treat\", \"newspaper\", \"taxi\", \"refill\", \"extensive\", \"catastrophic\", \"basic\", \"pleasantly\", \"plentiful\", \"surprised\", \"lounger\", \"breakfast\", \"must\", \"variety\", \"bathroom\", \"poor\", \"recommend\", \"rude\", \"luxurious\", \"arrogant\", \"run\", \"ventilation\", \"concierge\", \"immaculate\", \"exercise\", \"odor\", \"hygiene\", \"remodel\", \"highly\", \"unclean\", \"sewer\", \"frontdesk\", \"overwhelm\", \"colleague\", \"dated\", \"greet\", \"heating\", \"cold\", \"hardworke\", \"poorly\", \"support\", \"guide\", \"tour\", \"stretch\", \"staff\", \"food\", \"enough\", \"long\", \"take\", \"effective\", \"waitress\", \"helpfulness\", \"age\", \"go\", \"file\", \"amenitite\", \"help\", \"exceelent\", \"toothbrush\", \"toothpaste\", \"breakfast\", \"time\", \"wait\", \"say\", \"tasty\", \"varied\", \"countryside\", \"appoint\", \"stretch\", \"quietness\", \"whole\", \"crew\", \"central\", \"therefore\", \"offensive\", \"floor\", \"infrastructure\", \"care\", \"request\", \"treat\", \"term\", \"uncomprehensive\", \"extremely\", \"guest\", \"early\", \"find\", \"professional\", \"unfortunately\", \"treatment\", \"wife\", \"hard\", \"honeymoon\", \"memorable\", \"short\", \"problem\", \"easy\", \"time\", \"program\", \"luggage\", \"misplace\", \"wait\", \"impersonal\", \"ok\", \"however\", \"preferred\", \"can\", \"frankly\", \"new\", \"relaxing\", \"car\", \"reach\", \"third\", \"expensive\", \"love\", \"quiet\", \"bedding\", \"best\", \"ever\", \"comfy\", \"avoid\", \"acknowledgement\", \"member\", \"status\", \"elevator\", \"working\", \"outdate\", \"relatively\", \"system\", \"fiance\", \"equip\", \"neighborhood\", \"unit\", \"repair\", \"outlet\", \"propose\", \"equipment\", \"malfunctioning\", \"improvement\", \"equipped\", \"complicate\", \"friendlness\", \"technical\", \"comfortable\", \"ready\", \"wireless\", \"disappointed\", \"expenseive\", \"last\", \"stylish\", \"week\", \"modern\", \"store\", \"prompt\", \"point\", \"large\", \"professionalism\", \"shape\", \"happy\", \"rusty\", \"breakfast\", \"warm\", \"therefore\", \"room\", \"stretch\", \"quietness\", \"whole\", \"crew\", \"central\", \"varied\", \"countryside\", \"appoint\", \"offensive\", \"good\", \"convenient\", \"city\", \"end\", \"little\", \"complimentary\", \"cleaning\", \"small\", \"hour\", \"restaurant\", \"far\", \"chair\", \"amenity\", \"low\", \"small\", \"locatoin\", \"city\", \"end\", \"local\", \"specialty\", \"soap\", \"station\", \"train\", \"inadequate\", \"amazing\", \"fantastic\", \"dish\", \"lift\", \"cuisine\", \"cosy\", \"right\", \"stretch\", \"quietness\", \"whole\", \"crew\", \"central\", \"therefore\", \"varied\", \"countryside\", \"week\", \"prompt\", \"store\", \"beach\", \"can\", \"many\", \"outdate\", \"crib\", \"well\", \"surrounding\", \"would\", \"feel\", \"ground\", \"return\", \"property\", \"elegant\", \"overall\", \"satisfactory\", \"terrific\", \"suggestion\", \"tea\", \"exceptional\", \"accommodation\", \"advantage\", \"overrate\", \"empty\", \"sleep\", \"daily\", \"satisfied\", \"vary\", \"grand\", \"structure\", \"diverse\", \"excursion\", \"offering\", \"home\", \"immediately\", \"environment\"], \"Freq\": [148.0, 115.0, 86.0, 56.0, 75.0, 54.0, 46.0, 54.0, 37.0, 32.0, 25.0, 25.0, 25.0, 19.0, 21.0, 20.0, 17.0, 15.0, 18.0, 19.0, 26.0, 17.0, 13.0, 15.0, 14.0, 9.0, 10.0, 9.0, 15.0, 8.0, 114.88045449982712, 75.07461260119472, 12.928026926837568, 11.669168768350671, 8.255226223275628, 7.667976628607795, 6.3394307022768475, 5.369620517816595, 4.511241266435116, 4.186297916866526, 3.9559300721747888, 3.521054413492672, 2.9151497559938284, 2.771081376383357, 2.771081376383357, 2.771081376383357, 2.771081376383357, 2.6579042892109155, 2.2615943797997664, 1.865124759390761, 1.865124759390761, 1.7131821746087705, 1.3711043044266364, 1.2960804650183486, 1.2605847322752464, 0.9414464318075985, 0.8635126521735047, 0.7786801026526021, 0.7786801026526021, 0.7786801026526021, 1.1761922281981168, 7.934706872513476, 6.848408175565279, 6.094756708296984, 130.5560524520204, 3.1243901402875935, 3.1243901402875935, 3.1032948554431474, 2.5612938725166146, 1.9672555937958487, 1.9537376407914437, 1.8627781666829846, 1.8155818954099694, 1.6236726480574344, 1.4613289475990057, 1.4613289475990057, 1.4613289475990057, 1.3703694734905465, 1.3703694734905465, 1.3703694734905465, 1.3703694734905465, 1.3703694734905465, 1.351384373214461, 1.284085581409164, 1.1312637361703577, 1.1312637361703577, 1.1312637361703577, 0.8779606709507891, 0.7977966749638061, 0.7569838814984265, 0.6835656856616671, 12.811922732092517, 1.1492003050014223, 85.61245791197932, 53.548491333810176, 14.534766574450495, 7.4004483174768705, 5.167652680975661, 4.921745730361903, 4.514181343650857, 3.526359617301824, 2.817605434348204, 2.323045257059894, 1.2496765978688797, 1.2496765978688797, 0.9698595201377617, 0.7551166222309156, 0.7551166222309156, 0.4638332521187201, 0.36676540485821585, 0.36676540485821585, 0.29226918824070763, 0.04636202967503045, 0.04636202967503045, 0.04636202967503045, 0.04636202967503045, 0.04636202967503045, 0.0463620328258171, 0.04636202967503045, 0.04636202967503045, 0.04636202967503045, 0.04636202967503045, 0.04636202967503045, 0.046362048579750376, 0.046362048579750376, 0.046362042278177064, 0.046362042278177064, 0.046362042278177064, 0.046362042278177064, 0.046362042278177064, 0.04636203912739041, 0.04636203597660376, 0.04636203597660376, 0.04636203597660376, 53.950673854360716, 7.825977575456945, 7.786641073705098, 7.226698930809291, 5.823327735749507, 5.642430287556072, 5.416875274756899, 4.850342980039851, 4.83929524812506, 4.312725239250294, 4.295287092480131, 2.7267509474332745, 2.7267509474332745, 2.7267509474332745, 2.514065244316567, 2.32240375494276, 2.2260075998755, 2.2260075998755, 1.528476472833059, 1.2753465162393243, 0.7194978860946734, 0.5965687630054569, 0.5965687630054569, 0.5428877378511896, 0.46636785649766155, 0.46636785649766155, 0.36644462110547915, 0.2309029591098208, 0.2309029591098208, 0.2309029591098208, 0.23090396290487955, 55.330117334451195, 11.727908714896158, 8.564971460651664, 7.525997083450801, 3.5584216645306133, 3.200967224860463, 2.854616330652074, 2.512672094659551, 1.8630202820914665, 1.8630202820914665, 1.8630202820914665, 1.6767451833087272, 1.5723772855080504, 1.5723772855080504, 1.5723772855080504, 1.5723770126668508, 1.5205062172534334, 1.5205062172534334, 1.0073819582705008, 1.0073819582705008, 0.7843310034460736, 0.7843310034460736, 0.7843310034460736, 0.7843310034460736, 0.7371993232503202, 0.613150912245364, 0.4817782838661727, 0.6131515261380632, 0.30357665849711163, 0.30357665849711163, 0.30357665849711163, 32.10739387598681, 18.6386613487667, 14.400083748728573, 11.061350872842242, 10.06855513875776, 5.031824343568345, 3.2434064227439903, 3.127796619481069, 2.5000290181435476, 2.383579376626464, 2.3592748531463603, 2.1586951763069098, 2.1468654049722202, 1.5591177536693392, 1.2806218288705125, 1.2806218288705125, 1.0989579583999374, 0.9919614421841617, 0.8204616326598688, 0.8204616326598688, 0.8204616326598688, 0.8204616326598688, 0.8204616326598688, 0.6387978958363744, 0.6004115808908099, 0.4993805357623666, 0.3923841866054416, 0.24724783407240183, 0.24724783407240183, 0.039220389669378256, 0.039220435610562196, 25.169169360984718, 10.740013274381749, 10.312628185918182, 9.888527185758369, 7.631331798522837, 6.304070409184421, 5.216329815076161, 3.894156270810372, 3.6948002111650458, 2.9319928974919267, 2.545905549992682, 2.083818612070494, 2.0704952468589437, 1.985774617048392, 1.0616015675656585, 13.136539337070936, 0.6414723157295303, 2.9319964572036215, 1.0616031567226654, 0.5014712385010311, 0.5014712385010311, 0.5014711431516107, 0.03938459059999638, 0.03938459059999638, 0.03938459059999638, 0.03938459059999638, 0.0393845945728889, 0.03938459059999638, 0.03938459854578142, 0.03938459059999638, 0.03938461443735149, 0.039384610464458965, 0.039384602518673935, 0.03938459854578142, 0.03938459854578142, 0.03938459854578142, 0.03938459854578142, 36.95779875734907, 24.86827414774881, 9.572128161049095, 6.070695846499445, 4.60750350956752, 4.050071270332804, 3.0382236052544553, 2.965779436226527, 2.259315459761815, 2.2230207874075534, 2.096908754777138, 1.9868351245596365, 1.9868351245596365, 1.9457218231385909, 1.5844811018943632, 1.4427777277120015, 1.2847735567302974, 1.2685409599052582, 1.007890687525146, 0.7590701645481008, 0.6055367902274726, 0.6055367902274726, 0.6055367902274726, 0.6055367902274726, 0.47146096886972194, 0.47146096886972194, 0.47146096886972194, 1.007890812892746, 0.780240865762555, 0.6791109601164026, 46.005279555341815, 7.266164982169155, 6.2389457816516165, 6.102663360034357, 4.620621330973709, 3.8677812628463526, 3.267171687805798, 2.20141192977306, 2.0588683090326603, 1.529767341535088, 1.529767341535088, 1.529767341535088, 1.1842442491140976, 1.0192063510751828, 0.9190782269421545, 0.7431745041708532, 0.7155791325567162, 0.7155791325567162, 0.7155791325567162, 0.7155791325567162, 0.7155791325567162, 0.7155791325567162, 0.34756179080097693, 0.34756179080097693, 0.34756179080097693, 0.34756179080097693, 0.34756179080097693, 0.04393454431874427, 0.04393454431874427, 0.043934540823273485, 0.043934558300627403, 0.043934551309685835, 0.043934551309685835, 25.043202614918055, 17.41106444520654, 16.447735490488427, 4.773987401923089, 4.285478717724362, 4.269361924722033, 2.099630847315101, 2.0864635143151786, 1.9917095867011991, 1.7078115177390774, 1.5822455182956914, 1.4967790555548939, 1.4543017488658294, 1.2876154462951315, 1.2876154462951315, 1.2451383568135197, 1.1739441613853514, 0.6422865107514496, 0.6422865107514496, 0.6422865107514496, 0.6422865107514496, 0.6422865107514496, 0.3945269290796695, 0.24859811104355226, 0.24859811104355226, 0.24859811104355226, 0.24859811104355226, 0.2485980295907574, 0.2485980295907574, 0.2485980295907574, 7.819521626420726, 7.605454647800368, 6.106376052903705, 4.755448696922535, 4.638308424195312, 4.563876799496119, 3.654488795237991, 3.5818136627456973, 3.013306239755097, 2.7543937258761964, 2.562990417470369, 2.2894508805462412, 1.640955241431649, 1.4798483213857045, 1.4798483213857045, 1.4620311576221976, 1.2216407577895974, 1.146281251640791, 0.985174652513033, 0.9481011138927408, 0.9481011138927408, 0.9481011138927408, 0.9481011138927408, 0.8615328447611542, 0.7381759588724347, 0.7381759588724347, 0.6938177913663051, 0.4534273380473403, 0.4534273380473403, 0.4534273380473403, 2.8889594282340605, 3.126090582965576, 11.503482692115924, 20.72764320408137, 19.341900138715445, 9.306561154869257, 4.127570261221319, 2.620280408687419, 2.620280408687419, 2.620280408687419, 2.620280408687419, 2.620280408687419, 2.620280408687419, 2.620280408687419, 2.550512088772941, 1.8412507249157497, 1.6369712248809158, 6.39407568833097, 1.2255484289372591, 1.1492649523149077, 1.1492649523149077, 0.5732746728212799, 2.6202774554506605, 0.448157686093916, 0.9487381724184256, 0.9487381724184256, 0.352136146122183, 0.27844350191912526, 0.035197446959373796, 0.035197446959373796, 0.035197446959373796, 0.035197446959373796, 0.035197446959373796, 0.0351974568474433, 0.0351974568474433, 0.0351974568474433, 0.0351974568474433, 0.0351974568474433, 10.169976523075599, 5.761739903688383, 5.505838168646556, 4.820352775371507, 4.0098453521110535, 3.633586293815837, 3.3406703245312577, 3.1146815555979344, 2.75743569730034, 2.5389145682879337, 1.4937577678342358, 1.296291921851113, 1.296291921851113, 1.296291921851113, 1.296291921851113, 1.296291921851113, 1.296291921851113, 1.296291921851113, 1.296291921851113, 1.296291921851113, 1.1755032200629045, 1.0035030896580492, 0.6063663868747969, 0.6063663868747969, 0.6063663868747969, 0.37246282035091455, 0.23469515312083036, 0.23469515312083036, 0.23469515312083036, 0.23469515312083036, 3.3499234721769766, 0.23469515312083036, 0.23469515312083036, 16.71405162929994, 9.237699069792082, 4.517033386846939, 4.210300948327011, 4.206570642814507, 3.5353453131539054, 2.293537282061362, 2.028797465607386, 1.9741352795823264, 1.7266011744390075, 1.3718322222613117, 0.9139821884120933, 0.8241913509653571, 0.8241913509653571, 0.6663180033735356, 0.6417018224807418, 0.6417018224807418, 0.6417018224807418, 0.6417018224807418, 0.6417018224807418, 0.5016505486218436, 0.5016505486218436, 0.5016505486218436, 0.39416775623691314, 0.31167905329209844, 0.501650237425922, 0.6407699851929296, 0.2483718056648399, 0.2483718056648399, 0.039398682498310654, 0.03947997513918045, 18.307939265799785, 5.830345331495087, 4.4247964539192175, 3.679940567179491, 2.4095750676299486, 1.843621784698493, 1.202368694398149, 1.2023686216532867, 1.2023686216532867, 1.202368694398149, 1.2023684034186999, 1.2023684034186999, 0.9307939371618984, 0.9307939371618984, 0.9307939371618984, 5.874995546024935, 3.2090499793414002, 2.258169148838276, 0.3454758991374148, 0.27317709013224034, 0.21769021895310087, 0.21769021895310087, 0.21769021895310087, 0.034531729260479926, 0.034531729260479926, 0.034531729260479926, 0.034531729260479926, 0.034531729260479926, 0.034531729260479926, 0.034531729260479926, 0.03453173835358772, 0.03453173835358772, 0.03453173835358772, 0.03453173835358772, 0.03453173835358772, 0.03453173608031077, 0.03453173608031077, 8.42194155135972, 5.535367595417866, 3.6925583707277716, 3.4851309606663126, 3.3708955388558204, 2.872387198308253, 2.659337498977361, 2.6576739919822923, 2.6187319519036234, 1.243816092436683, 1.243816092436683, 1.243816092436683, 1.2251454336820022, 0.9034825317381474, 4.352891326375093, 0.7765006102037709, 0.7472797854764042, 0.7472797854764042, 2.9980076227527315, 0.5818197349021482, 0.5818197349021482, 0.5468572884532585, 0.45483781336777174, 0.357385103009174, 0.3573849628653665, 0.3573849628653665, 0.3573849628653665, 0.3573849628653665, 0.3573849628653665, 0.3573849628653665, 8.43451999934319, 6.323648095449743, 3.975713496155661, 2.18423243453523, 2.18423243453523, 2.18423243453523, 2.18423243453523, 2.18423243453523, 2.1842321744837214, 2.1842321744837214, 2.1842321744837214, 1.6467426330402062, 1.470135932258535, 1.302250969005859, 1.0623085932221612, 1.021601560312745, 1.021601560312745, 1.021601560312745, 1.021601560312745, 1.021601560312745, 1.021601560312745, 1.0216014302869907, 1.0216014302869907, 0.6334964626933873, 0.6137742212763714, 0.47787448839123925, 0.47787448839123925, 0.47787448839123925, 0.47787448839123925, 0.3877289981247081, 14.9179097105743, 3.2725065894583185, 3.2725065894583185, 2.2502529235265794, 2.2502529235265794, 2.2502529235265794, 1.261376077514467, 1.212806120939179, 1.1527074479524655, 1.0524804549897622, 1.0524804549897622, 1.0524803310703734, 1.0262734250231684, 0.8147605010890249, 0.8147605010890249, 0.6323261291569006, 0.4923186889222295, 5.048282087075716, 0.3024086320259839, 0.19055279578575868, 5.523723605829244, 0.03022697880958699, 0.03022697880958699, 0.03022697880958699, 0.03022697880958699, 0.03022697880958699, 0.03022697880958699, 0.03022697880958699, 0.03022697880958699, 0.03022697880958699, 0.030232018843475632, 0.03022699236327013, 0.030226986554548786, 0.030226986554548786, 0.030226984618308337, 0.030226984618308337, 0.030226984618308337, 0.03022698074582744, 0.03022698074582744, 8.13662616002822, 2.465445499336873, 2.465445268817435, 2.305273447741477, 2.1618011463094686, 9.213547506644932, 1.2914609466154923, 1.2914609466154923, 1.2914609466154923, 1.2914609466154923, 1.2914609466154923, 1.2110747845095735, 1.2110747845095735, 1.2110747845095735, 1.0392767155802327, 1.2914607160960543, 0.4901488705401152, 0.47226047570982976, 0.4722202212529764, 0.37107477523645055, 0.23382050512390581, 0.23382050512390581, 0.03709044429829973, 0.03709044069643352, 0.03709044069643352, 0.03709044069643352, 0.03709044069643352, 0.03709044069643352, 0.03709044069643352, 0.03709044069643352, 0.03709046590949704, 0.037090458705764606, 0.03709045150203217, 0.037090447900165954, 0.037090447900165954, 0.037090447900165954, 0.037090447900165954, 0.03709044429829973, 9.019475791508201, 3.6751351432507593, 2.3628576533175303, 2.079876222636738, 1.7473560823158742, 1.5060539224030536, 1.306962599037034, 1.3069624894810203, 1.3069624894810203, 1.0117638103682591, 1.0117638103682591, 1.0117638103682591, 1.0117638103682591, 1.0117638103682591, 0.8104492120367267, 0.785218023840629, 0.785218023840629, 0.785218023840629, 0.6113578338927003, 0.5746203610160174, 0.5746203610160174, 0.49603216220980717, 1.0117637008122455, 1.0117637008122455, 0.23662710352606653, 0.23662710352606653, 0.23662710352606653, 0.23662710352606653, 0.23662710352606653, 0.23662710352606653], \"Total\": [148.0, 115.0, 86.0, 56.0, 75.0, 54.0, 46.0, 54.0, 37.0, 32.0, 25.0, 25.0, 25.0, 19.0, 21.0, 20.0, 17.0, 15.0, 18.0, 19.0, 26.0, 17.0, 13.0, 15.0, 14.0, 9.0, 10.0, 9.0, 15.0, 8.0, 115.60616490775246, 75.80024171647918, 13.653656042122023, 12.394797883635126, 8.980855338560083, 8.393605743892248, 7.0650598175613, 6.095249633101048, 5.236870384150786, 4.911927032150979, 4.681559187459241, 4.246683546938077, 3.640778871278283, 3.49671051474303, 3.49671051474303, 3.49671051474303, 3.49671051474303, 3.3835334090580744, 2.987223508108379, 2.5907538746752152, 2.5907538883566734, 2.4388112898932244, 2.0967334197110907, 2.0217095803028027, 1.9862138475597007, 1.6670755470920529, 1.589141771721103, 1.5043092179370565, 1.5043092179370565, 1.5043092304664702, 2.503192648136059, 8.655590105486745, 7.5692914166608425, 6.8156399499139, 148.22859308016882, 3.8452733633727942, 3.8452733633727942, 3.8241780904470253, 3.282177095601815, 2.688138816881049, 2.6746208858270664, 2.5836613897681846, 2.536465122874663, 2.344555871142634, 2.1822121706842057, 2.1822121706842057, 2.1822121843831135, 2.0912526965757468, 2.0912526965757468, 2.0912526965757468, 2.0912526965757468, 2.0912526965757468, 2.0722675962996613, 2.0049688044943643, 1.852146959255558, 1.852146959255558, 1.852146959255558, 1.5988438940359895, 1.518679903913248, 1.4778671088467705, 1.4044489087468672, 26.629960701648663, 2.5202481143036377, 86.32894811007259, 54.264986571937335, 15.251256772543773, 8.116938522162192, 5.884142879068936, 5.6382359284551775, 5.230671546007275, 4.242849827618325, 3.5340956357843787, 3.039535463679458, 1.9661667959621563, 1.966166829495034, 1.6863497281191078, 1.4716068245006635, 1.4716068248904948, 1.1803234502119966, 1.0832556029514924, 1.0832556029514924, 1.0087593863339843, 0.9163856389915701, 0.9163856431483183, 0.9163856431483183, 0.9163856461991428, 0.9184742405814387, 0.9231780551889196, 0.9460107174609279, 0.946010725406713, 0.9460107345725334, 0.9523244723355604, 0.9523244723355604, 1.5473857689524646, 1.7851056909814682, 2.8072862652590542, 2.3914417150411977, 1.755113688898692, 1.755113688898692, 1.755113688898692, 2.095285810697738, 0.9720156912862828, 0.9595823024702451, 2.179561473443209, 54.67689844453619, 8.55220216563243, 8.512865663880584, 7.952923520984774, 6.5495523259249895, 6.368654877731555, 6.143099864932382, 5.576567570215334, 5.565519838300543, 5.038949856401556, 5.021511682655614, 3.4529755444429666, 3.452975553728621, 3.4529755546245657, 3.24028989061549, 3.0486283451182445, 2.9522321978243453, 2.9522321978243453, 2.2547010630085436, 2.0015711186237377, 1.445722476270158, 1.3227933531809413, 1.3227933619399292, 1.2691123322898177, 1.1925924512394483, 1.1925924512394483, 1.092669219807251, 0.957127553548449, 0.957127553548449, 0.957127553548449, 1.1662909195243032, 56.044814223159605, 12.442605235961722, 9.279667979780989, 8.24069360714283, 4.273118183659937, 3.9156637511935193, 3.569312849781398, 3.227368613788875, 2.5777168012207907, 2.5777168012207907, 2.5777168012207907, 2.3914417150411977, 2.287073808239241, 2.287073808239241, 2.287073808239241, 2.287073531796175, 2.235202738665909, 2.235202738665909, 1.7220784819661277, 1.7220785099815816, 1.499027522575398, 1.499027522575398, 1.499027522575398, 1.4990275362671102, 1.4518958423796444, 1.327847431374688, 1.1964748117741963, 1.7900996246985357, 1.0182731801946545, 1.0182731841201202, 1.018273184750115, 32.83102571636888, 19.362293186865635, 15.123715586827503, 11.784982712972825, 10.79218697685669, 5.755456181667272, 3.967038260842919, 3.851428468995754, 3.2236608562424762, 3.107211221230815, 3.082906691245289, 2.8823270144058384, 2.8704972498909798, 2.282749591768268, 2.0042536669694413, 2.0042536669694413, 1.8225897964988662, 1.7155932802830904, 1.5440934707587977, 1.5440934707587977, 1.5440934730419489, 1.5440934792850851, 1.5440934792850851, 1.3624297407695107, 1.3240434189897385, 1.223012377278399, 1.1160160247043702, 0.9708796800363406, 0.9708796892239057, 0.9163856389915701, 1.2249388262611052, 25.892636998153034, 11.463480916112765, 11.036095828997611, 10.61199482292668, 8.354799440058605, 7.02753804635273, 5.939797452244471, 4.617623915676022, 4.418267848333356, 3.655460534660237, 3.2693731871609923, 2.8072862652590542, 2.793962884027254, 2.7092422542167025, 1.7850692047339691, 26.629960701648663, 1.3649399574641436, 6.24054410514637, 2.536365306256766, 1.2249388756693416, 1.2249389060090117, 1.2249388262611052, 0.9163856389915701, 0.9163856431483183, 0.9163856431483183, 0.9163856461991428, 0.9184742405814387, 0.9231780551889196, 0.946010725406713, 0.9460107174609279, 1.7851056909814682, 1.966166829495034, 3.8241780904470253, 3.0169908496835607, 1.2053668440560181, 1.3657041800444865, 1.2053668518268008, 37.69170461378619, 25.602180004048954, 10.306034014918016, 6.80460172124767, 5.34140936343644, 4.783977124201724, 3.772129459123375, 3.699685296942697, 2.9932213136307344, 2.956926641276473, 2.8308146131926115, 2.7207409853264455, 2.7207409853264455, 2.6796276770075105, 2.3183869623553295, 2.176683581580922, 2.0186794140163213, 2.002446813774178, 1.7417965459603688, 1.4929760250796662, 1.3394426440963927, 1.3394426773392243, 1.3394426773392243, 1.3394426773392243, 1.2053668440560181, 1.205366850715223, 1.2053668518268008, 2.9961669421612873, 2.536365306256766, 2.5202481143036377, 46.72419724228684, 7.985082669114187, 6.957863468596649, 6.821581046979389, 5.339539017918741, 4.586698949791385, 3.986089374750831, 2.9203296343005736, 2.7777860039640236, 2.2486850284801214, 2.2486850284801214, 2.2486850284801214, 1.9031619360591312, 1.7381240380202163, 1.637995913887188, 1.4620921911158868, 1.434496821784901, 1.434496821784901, 1.434496821784901, 1.434496821784901, 1.434496825803323, 1.4344968316729705, 1.0664794777460103, 1.0664794777460103, 1.0664794811696356, 1.0664794892549867, 1.066479490588255, 0.9163856431483183, 0.9163856431483183, 0.9163856389915701, 1.336674446669044, 1.5476449263454044, 3.24028989061549, 25.766620265411866, 18.134482093132135, 17.17115314035026, 5.497405053450543, 5.00889638041737, 4.992779578081559, 2.8230484952406893, 2.809881162240767, 2.7151272346267876, 2.4312291656646656, 2.3056631795199696, 2.220196703480483, 2.177719396791418, 2.0110330942207204, 2.0110330942207204, 1.9685560047391084, 1.8973618093109401, 1.3657041586770384, 1.3657041586770384, 1.3657041620941421, 1.3657041620941421, 1.3657041800444865, 1.117944583825089, 0.972015758969141, 0.972015758969141, 0.972015758969141, 0.9720157609053814, 0.9720156912862828, 0.9720156937745429, 0.9720156937745429, 8.537051935940164, 8.32298496357585, 6.823906362423144, 5.472979006441974, 5.355838737138376, 5.281407109015556, 4.372019106716298, 4.299343972265135, 3.7308365492745352, 3.471924037354503, 3.280520726989807, 3.0069811900656793, 2.3584855509510874, 2.197378630905143, 2.197378630905143, 2.179561473443209, 1.9391710673090357, 1.8638115611602293, 1.7027049620324715, 1.6656314234121792, 1.6656314345087508, 1.665631439114025, 1.665631439114025, 1.5790631542805926, 1.4557062683918731, 1.4557062683918731, 1.4113481008857434, 1.1709576475667787, 1.1709576519462725, 1.5049419852575823, 9.965367981556312, 13.020077960369754, 148.22859308016882, 21.455297984890308, 20.069554919524382, 10.034215937961342, 4.85522505112336, 3.347935189496352, 3.347935189496352, 3.347935189496352, 3.347935189496352, 3.347935189496352, 3.347935189496352, 3.3479351917795035, 3.2781668695818738, 2.5689055057246826, 2.364626005689849, 9.965367981556312, 1.9532032175816672, 1.8769197331238408, 1.8769197331238408, 1.3009294628759567, 6.24054410514637, 1.1758124691860004, 2.6506210108245742, 2.6506210108245742, 1.0797909269311161, 1.0060982827280585, 0.9163856389915701, 0.9163856431483183, 0.9163856431483183, 0.9163856461991428, 0.9184742405814387, 8.655590105486745, 1.4344968316729705, 1.6863497281191078, 1.7220785099815816, 3.24028989061549, 10.895599566980689, 6.487362947593473, 6.231461242886961, 5.545975823453069, 4.7354683960161434, 4.359209337720927, 4.066293393277867, 3.84030460310489, 3.48305874120543, 3.2645376121930236, 2.2193808117393257, 2.0219149794551106, 2.0219149917887895, 2.0219149917887895, 2.0219149917887895, 2.0219149917887895, 2.0219149917887895, 2.02191499447217, 2.02191499447217, 2.02191499447217, 1.9011262639679942, 1.7291261426885487, 1.3319894307798867, 1.331989433063038, 1.331989438736458, 1.098085866287657, 0.9603181970259204, 0.9603181970259204, 0.9603181970259204, 0.9603181970259204, 14.93406544111265, 0.960318205835618, 0.960318205835618, 17.43750517456994, 9.96115261506208, 5.240486932116935, 4.933754493597007, 4.930024191508129, 4.258798878861752, 3.0169908496835607, 2.752251010877382, 2.6975888316721535, 2.4500547197090037, 2.095285810697738, 1.6374357336820895, 1.5476448962353533, 1.5476449263454044, 1.3897715486435318, 1.365155367750738, 1.365155371046761, 1.3651553742103606, 1.365155376883343, 1.3651553854096306, 1.225104101848411, 1.225104101848411, 1.225104101848411, 1.1176213060732119, 1.035132600845246, 1.7900996246985357, 2.503192648136059, 0.9718253509348361, 0.9718253509348361, 0.9163856389915701, 115.60616490775246, 19.036259764307616, 6.558665830002914, 5.153116952427045, 4.408261068255537, 3.137895568705994, 2.57194228320632, 1.930689209958551, 1.930689130049183, 1.930689130049183, 1.9306892562161884, 1.9306889302722603, 1.9306889302722603, 1.6591144356697254, 1.6591144356697254, 1.6591144356697254, 14.93406544111265, 8.254539714836097, 5.948775180710612, 1.0737963996041104, 1.0014975886400674, 0.9460107174609279, 0.946010725406713, 0.9460107345725334, 0.9163856389915701, 0.9163856431483183, 0.9163856431483183, 0.9163856461991428, 0.9184742405814387, 0.9231780551889196, 0.9523244723355604, 4.85522505112336, 1.2249389060090117, 2.02191499447217, 2.02191499447217, 2.02191499447217, 1.1964748117741963, 1.117944583825089, 9.149071689739802, 6.262497738360655, 4.419688513327247, 4.212261101078049, 4.098025683695527, 3.5995173366883377, 3.386467644145178, 3.384804130362377, 3.345862090283708, 1.9709462409983667, 1.9709462409983667, 1.9709462409983667, 1.9522755754049843, 1.6306126701182317, 8.254539714836097, 1.5036307485838554, 1.4744099238564885, 1.4744099238564885, 5.948775180710612, 1.3089498732822327, 1.3089498800699653, 1.2739874268333429, 1.181967951747856, 1.0845152510242089, 1.0845151012454508, 1.0845151012454508, 1.0845151012454508, 1.0845151012454508, 1.0845151012454508, 1.0845151046690762, 9.16803208019126, 7.057160176297814, 4.709225577003732, 2.9177445153833017, 2.9177445153833017, 2.9177445153833017, 2.9177445295622, 2.9177445525119405, 2.917744255331793, 2.917744255331793, 2.917744255331793, 2.3802547138882777, 2.2036480131066067, 2.035763057057663, 1.7958206740702327, 1.7551136411608164, 1.7551136878130897, 1.755113688898692, 1.755113688898692, 1.755113688898692, 1.7551136912195857, 1.755113517979119, 1.755113517979119, 1.3670085435414587, 1.3472863021244428, 1.2113865692393107, 1.2113865692393107, 1.2113865692393107, 1.2113865692393107, 1.1212410789727796, 15.650534959533019, 4.005131838417039, 4.005131840848257, 2.9828781880073194, 2.9828781880073194, 2.9828781880073194, 1.9940013264731868, 1.945431397679181, 1.8853326969111854, 1.785105724472758, 1.785105752775204, 1.7851056909814682, 1.7588986739818884, 1.5473857500477448, 1.5473857689524646, 1.3649514146722928, 1.2249439378809495, 14.93406544111265, 1.035033880984704, 0.9231780551889196, 148.22859308016882, 0.9163856389915701, 0.9163856431483183, 0.9163856431483183, 0.9163856461991428, 0.9184742405814387, 0.9460107174609279, 0.946010725406713, 0.9460107345725334, 0.9523244723355604, 54.264986571937335, 3.24028989061549, 2.0172227465687644, 2.0172227465687644, 1.0664794892549867, 4.066293393277867, 4.246683546938077, 13.020077960369754, 5.00889638041737, 8.862387947100093, 3.191207286408747, 3.1912070558893086, 3.0310352348133502, 2.8875629353402106, 13.020077960369754, 2.017222733687366, 2.0172227465687644, 2.0172227465687644, 2.017222749001386, 2.017222749001386, 1.936836571581447, 1.936836571581447, 1.936836571581447, 1.7650385026521063, 2.9961669421612873, 1.2159106576119887, 1.198022266198807, 1.6904363813599366, 1.5049419852575823, 0.9595822921957794, 0.9595823024702451, 0.9163856389915701, 0.9163856431483183, 0.9163856431483183, 0.9163856461991428, 0.9184742405814387, 0.9231780551889196, 0.9460107174609279, 0.946010725406713, 1.945431397679181, 1.785105752775204, 1.785105724472758, 2.3056631795199696, 1.0845152510242089, 3.9156637511935193, 2.035763057057663, 0.9708796800363406, 9.74479237606148, 4.400451730235255, 3.0881742378708075, 2.805192807190015, 2.4726726688053917, 2.231370527012404, 2.032279206087312, 2.0322791224958374, 2.0322791224958374, 1.7370803949215365, 1.7370803949215365, 1.7370803949215365, 1.7370803949215365, 1.7370803949215365, 1.5357657999838703, 1.5105346083939062, 1.5105346083939062, 1.5105346083939062, 1.336674446669044, 1.2999369455692946, 1.2999369499487887, 1.2213487467630846, 2.6506210108245742, 2.6506210108245742, 0.9619436880793438, 0.9619436880793438, 0.9619436880793438, 0.9619436880793438, 0.9619436880793438, 0.9619436920522363], \"Category\": [\"Default\", \"Default\", \"Default\", \"Default\", \"Default\", \"Default\", \"Default\", \"Default\", \"Default\", \"Default\", \"Default\", \"Default\", \"Default\", \"Default\", \"Default\", \"Default\", \"Default\", \"Default\", \"Default\", \"Default\", \"Default\", \"Default\", \"Default\", \"Default\", \"Default\", \"Default\", \"Default\", \"Default\", \"Default\", \"Default\", \"Topic1\", \"Topic1\", \"Topic1\", \"Topic1\", \"Topic1\", \"Topic1\", \"Topic1\", \"Topic1\", \"Topic1\", \"Topic1\", \"Topic1\", \"Topic1\", \"Topic1\", \"Topic1\", \"Topic1\", \"Topic1\", \"Topic1\", \"Topic1\", \"Topic1\", \"Topic1\", \"Topic1\", \"Topic1\", \"Topic1\", \"Topic1\", \"Topic1\", \"Topic1\", \"Topic1\", \"Topic1\", \"Topic1\", \"Topic1\", \"Topic1\", \"Topic2\", \"Topic2\", \"Topic2\", \"Topic2\", \"Topic2\", \"Topic2\", \"Topic2\", \"Topic2\", \"Topic2\", \"Topic2\", \"Topic2\", \"Topic2\", \"Topic2\", \"Topic2\", \"Topic2\", \"Topic2\", \"Topic2\", \"Topic2\", \"Topic2\", \"Topic2\", \"Topic2\", \"Topic2\", \"Topic2\", \"Topic2\", \"Topic2\", \"Topic2\", \"Topic2\", \"Topic2\", \"Topic2\", \"Topic2\", \"Topic2\", \"Topic2\", \"Topic3\", \"Topic3\", \"Topic3\", \"Topic3\", \"Topic3\", \"Topic3\", \"Topic3\", \"Topic3\", \"Topic3\", \"Topic3\", \"Topic3\", \"Topic3\", \"Topic3\", \"Topic3\", \"Topic3\", \"Topic3\", \"Topic3\", \"Topic3\", \"Topic3\", \"Topic3\", \"Topic3\", \"Topic3\", \"Topic3\", \"Topic3\", \"Topic3\", \"Topic3\", \"Topic3\", \"Topic3\", \"Topic3\", \"Topic3\", \"Topic3\", \"Topic3\", \"Topic3\", \"Topic3\", \"Topic3\", \"Topic3\", \"Topic3\", \"Topic3\", \"Topic3\", \"Topic3\", \"Topic3\", \"Topic4\", \"Topic4\", \"Topic4\", \"Topic4\", \"Topic4\", \"Topic4\", \"Topic4\", \"Topic4\", \"Topic4\", \"Topic4\", \"Topic4\", \"Topic4\", \"Topic4\", \"Topic4\", \"Topic4\", \"Topic4\", \"Topic4\", \"Topic4\", \"Topic4\", \"Topic4\", \"Topic4\", \"Topic4\", \"Topic4\", \"Topic4\", \"Topic4\", \"Topic4\", \"Topic4\", \"Topic4\", \"Topic4\", \"Topic4\", \"Topic4\", \"Topic5\", \"Topic5\", \"Topic5\", \"Topic5\", \"Topic5\", \"Topic5\", \"Topic5\", \"Topic5\", \"Topic5\", \"Topic5\", \"Topic5\", \"Topic5\", \"Topic5\", \"Topic5\", \"Topic5\", \"Topic5\", \"Topic5\", \"Topic5\", \"Topic5\", \"Topic5\", \"Topic5\", \"Topic5\", \"Topic5\", \"Topic5\", \"Topic5\", \"Topic5\", \"Topic5\", \"Topic5\", \"Topic5\", \"Topic5\", \"Topic5\", \"Topic6\", \"Topic6\", \"Topic6\", \"Topic6\", \"Topic6\", \"Topic6\", \"Topic6\", \"Topic6\", \"Topic6\", \"Topic6\", \"Topic6\", \"Topic6\", \"Topic6\", \"Topic6\", \"Topic6\", \"Topic6\", \"Topic6\", \"Topic6\", \"Topic6\", \"Topic6\", \"Topic6\", \"Topic6\", \"Topic6\", \"Topic6\", \"Topic6\", \"Topic6\", \"Topic6\", \"Topic6\", \"Topic6\", \"Topic6\", \"Topic6\", \"Topic7\", \"Topic7\", \"Topic7\", \"Topic7\", \"Topic7\", \"Topic7\", \"Topic7\", \"Topic7\", \"Topic7\", \"Topic7\", \"Topic7\", \"Topic7\", \"Topic7\", \"Topic7\", \"Topic7\", \"Topic7\", \"Topic7\", \"Topic7\", \"Topic7\", \"Topic7\", \"Topic7\", \"Topic7\", \"Topic7\", \"Topic7\", \"Topic7\", \"Topic7\", \"Topic7\", \"Topic7\", \"Topic7\", \"Topic7\", \"Topic7\", \"Topic7\", \"Topic7\", \"Topic7\", \"Topic7\", \"Topic7\", \"Topic7\", \"Topic8\", \"Topic8\", \"Topic8\", \"Topic8\", \"Topic8\", \"Topic8\", \"Topic8\", \"Topic8\", \"Topic8\", \"Topic8\", \"Topic8\", \"Topic8\", \"Topic8\", \"Topic8\", \"Topic8\", \"Topic8\", \"Topic8\", \"Topic8\", \"Topic8\", \"Topic8\", \"Topic8\", \"Topic8\", \"Topic8\", \"Topic8\", \"Topic8\", \"Topic8\", \"Topic8\", \"Topic8\", \"Topic8\", \"Topic8\", \"Topic9\", \"Topic9\", \"Topic9\", \"Topic9\", \"Topic9\", \"Topic9\", \"Topic9\", \"Topic9\", \"Topic9\", \"Topic9\", \"Topic9\", \"Topic9\", \"Topic9\", \"Topic9\", \"Topic9\", \"Topic9\", \"Topic9\", \"Topic9\", \"Topic9\", \"Topic9\", \"Topic9\", \"Topic9\", \"Topic9\", \"Topic9\", \"Topic9\", \"Topic9\", \"Topic9\", \"Topic9\", \"Topic9\", \"Topic9\", \"Topic9\", \"Topic9\", \"Topic9\", \"Topic10\", \"Topic10\", \"Topic10\", \"Topic10\", \"Topic10\", \"Topic10\", \"Topic10\", \"Topic10\", \"Topic10\", \"Topic10\", \"Topic10\", \"Topic10\", \"Topic10\", \"Topic10\", \"Topic10\", \"Topic10\", \"Topic10\", \"Topic10\", \"Topic10\", \"Topic10\", \"Topic10\", \"Topic10\", \"Topic10\", \"Topic10\", \"Topic10\", \"Topic10\", \"Topic10\", \"Topic10\", \"Topic10\", \"Topic10\", \"Topic11\", \"Topic11\", \"Topic11\", \"Topic11\", \"Topic11\", \"Topic11\", \"Topic11\", \"Topic11\", \"Topic11\", \"Topic11\", \"Topic11\", \"Topic11\", \"Topic11\", \"Topic11\", \"Topic11\", \"Topic11\", \"Topic11\", \"Topic11\", \"Topic11\", \"Topic11\", \"Topic11\", \"Topic11\", \"Topic11\", \"Topic11\", \"Topic11\", \"Topic11\", \"Topic11\", \"Topic11\", \"Topic11\", \"Topic11\", \"Topic11\", \"Topic11\", \"Topic11\", \"Topic12\", \"Topic12\", \"Topic12\", \"Topic12\", \"Topic12\", \"Topic12\", \"Topic12\", \"Topic12\", \"Topic12\", \"Topic12\", \"Topic12\", \"Topic12\", \"Topic12\", \"Topic12\", \"Topic12\", \"Topic12\", \"Topic12\", \"Topic12\", \"Topic12\", \"Topic12\", \"Topic12\", \"Topic12\", \"Topic12\", \"Topic12\", \"Topic12\", \"Topic12\", \"Topic12\", \"Topic12\", \"Topic12\", \"Topic12\", \"Topic12\", \"Topic12\", \"Topic12\", \"Topic12\", \"Topic12\", \"Topic13\", \"Topic13\", \"Topic13\", \"Topic13\", \"Topic13\", \"Topic13\", \"Topic13\", \"Topic13\", \"Topic13\", \"Topic13\", \"Topic13\", \"Topic13\", \"Topic13\", \"Topic13\", \"Topic13\", \"Topic13\", \"Topic13\", \"Topic13\", \"Topic13\", \"Topic13\", \"Topic13\", \"Topic13\", \"Topic13\", \"Topic13\", \"Topic13\", \"Topic13\", \"Topic13\", \"Topic13\", \"Topic13\", \"Topic13\", \"Topic13\", \"Topic13\", \"Topic13\", \"Topic14\", \"Topic14\", \"Topic14\", \"Topic14\", \"Topic14\", \"Topic14\", \"Topic14\", \"Topic14\", \"Topic14\", \"Topic14\", \"Topic14\", \"Topic14\", \"Topic14\", \"Topic14\", \"Topic14\", \"Topic14\", \"Topic14\", \"Topic14\", \"Topic14\", \"Topic14\", \"Topic14\", \"Topic14\", \"Topic14\", \"Topic14\", \"Topic14\", \"Topic14\", \"Topic14\", \"Topic14\", \"Topic14\", \"Topic14\", \"Topic14\", \"Topic15\", \"Topic15\", \"Topic15\", \"Topic15\", \"Topic15\", \"Topic15\", \"Topic15\", \"Topic15\", \"Topic15\", \"Topic15\", \"Topic15\", \"Topic15\", \"Topic15\", \"Topic15\", \"Topic15\", \"Topic15\", \"Topic15\", \"Topic15\", \"Topic15\", \"Topic15\", \"Topic15\", \"Topic15\", \"Topic15\", \"Topic15\", \"Topic15\", \"Topic15\", \"Topic15\", \"Topic15\", \"Topic15\", \"Topic15\", \"Topic15\", \"Topic15\", \"Topic15\", \"Topic15\", \"Topic15\", \"Topic15\", \"Topic15\", \"Topic16\", \"Topic16\", \"Topic16\", \"Topic16\", \"Topic16\", \"Topic16\", \"Topic16\", \"Topic16\", \"Topic16\", \"Topic16\", \"Topic16\", \"Topic16\", \"Topic16\", \"Topic16\", \"Topic16\", \"Topic16\", \"Topic16\", \"Topic16\", \"Topic16\", \"Topic16\", \"Topic16\", \"Topic16\", \"Topic16\", \"Topic16\", \"Topic16\", \"Topic16\", \"Topic16\", \"Topic16\", \"Topic16\", \"Topic16\", \"Topic17\", \"Topic17\", \"Topic17\", \"Topic17\", \"Topic17\", \"Topic17\", \"Topic17\", \"Topic17\", \"Topic17\", \"Topic17\", \"Topic17\", \"Topic17\", \"Topic17\", \"Topic17\", \"Topic17\", \"Topic17\", \"Topic17\", \"Topic17\", \"Topic17\", \"Topic17\", \"Topic17\", \"Topic17\", \"Topic17\", \"Topic17\", \"Topic17\", \"Topic17\", \"Topic17\", \"Topic17\", \"Topic17\", \"Topic17\", \"Topic18\", \"Topic18\", \"Topic18\", \"Topic18\", \"Topic18\", \"Topic18\", \"Topic18\", \"Topic18\", \"Topic18\", \"Topic18\", \"Topic18\", \"Topic18\", \"Topic18\", \"Topic18\", \"Topic18\", \"Topic18\", \"Topic18\", \"Topic18\", \"Topic18\", \"Topic18\", \"Topic18\", \"Topic18\", \"Topic18\", \"Topic18\", \"Topic18\", \"Topic18\", \"Topic18\", \"Topic18\", \"Topic18\", \"Topic18\", \"Topic18\", \"Topic18\", \"Topic18\", \"Topic18\", \"Topic18\", \"Topic18\", \"Topic18\", \"Topic18\", \"Topic18\", \"Topic19\", \"Topic19\", \"Topic19\", \"Topic19\", \"Topic19\", \"Topic19\", \"Topic19\", \"Topic19\", \"Topic19\", \"Topic19\", \"Topic19\", \"Topic19\", \"Topic19\", \"Topic19\", \"Topic19\", \"Topic19\", \"Topic19\", \"Topic19\", \"Topic19\", \"Topic19\", \"Topic19\", \"Topic19\", \"Topic19\", \"Topic19\", \"Topic19\", \"Topic19\", \"Topic19\", \"Topic19\", \"Topic19\", \"Topic19\", \"Topic19\", \"Topic19\", \"Topic19\", \"Topic19\", \"Topic19\", \"Topic19\", \"Topic19\", \"Topic19\", \"Topic20\", \"Topic20\", \"Topic20\", \"Topic20\", \"Topic20\", \"Topic20\", \"Topic20\", \"Topic20\", \"Topic20\", \"Topic20\", \"Topic20\", \"Topic20\", \"Topic20\", \"Topic20\", \"Topic20\", \"Topic20\", \"Topic20\", \"Topic20\", \"Topic20\", \"Topic20\", \"Topic20\", \"Topic20\", \"Topic20\", \"Topic20\", \"Topic20\", \"Topic20\", \"Topic20\", \"Topic20\", \"Topic20\", \"Topic20\"], \"logprob\": [30.0, 29.0, 28.0, 27.0, 26.0, 25.0, 24.0, 23.0, 22.0, 21.0, 20.0, 19.0, 18.0, 17.0, 16.0, 15.0, 14.0, 13.0, 12.0, 11.0, 10.0, 9.0, 8.0, 7.0, 6.0, 5.0, 4.0, 3.0, 2.0, 1.0, -1.0048, -1.4303, -3.1893, -3.2918, -3.6379, -3.7117, -3.9019, -4.068, -4.2422, -4.3169, -4.3735, -4.49, -4.6788, -4.7295, -4.7295, -4.7295, -4.7295, -4.7712, -4.9327, -5.1254, -5.1254, -5.2104, -5.4331, -5.4894, -5.5172, -5.8091, -5.8955, -5.9989, -5.9989, -5.9989, -5.5865, -3.3876, -3.5348, -3.6514, -0.587, -4.3196, -4.3196, -4.3264, -4.5183, -4.7822, -4.7891, -4.8368, -4.8624, -4.9741, -5.0795, -5.0795, -5.0795, -5.1437, -5.1437, -5.1437, -5.1437, -5.1437, -5.1577, -5.2088, -5.3355, -5.3355, -5.3355, -5.589, -5.6847, -5.7372, -5.8393, -2.9084, -5.3198, -0.9279, -1.3971, -2.7011, -3.3761, -3.7353, -3.784, -3.8705, -4.1174, -4.3418, -4.5348, -5.1548, -5.1548, -5.4083, -5.6586, -5.6586, -6.1459, -6.3807, -6.3807, -6.6078, -8.449, -8.449, -8.449, -8.449, -8.449, -8.449, -8.449, -8.449, -8.449, -8.449, -8.449, -8.449, -8.449, -8.449, -8.449, -8.449, -8.449, -8.449, -8.449, -8.449, -8.449, -8.449, -1.0667, -2.9974, -3.0024, -3.077, -3.2929, -3.3245, -3.3653, -3.4758, -3.478, -3.5932, -3.5973, -4.0517, -4.0517, -4.0517, -4.1329, -4.2122, -4.2546, -4.2546, -4.6305, -4.8116, -5.384, -5.5714, -5.5714, -5.6657, -5.8176, -5.8176, -6.0587, -6.5206, -6.5206, -6.5206, -6.5206, -0.9736, -2.5249, -2.8392, -2.9685, -3.7176, -3.8234, -3.938, -4.0655, -4.3647, -4.3647, -4.3647, -4.47, -4.5343, -4.5343, -4.5343, -4.5343, -4.5678, -4.5678, -4.9795, -4.9795, -5.2298, -5.2298, -5.2298, -5.2298, -5.2918, -5.476, -5.7172, -5.476, -6.179, -6.179, -6.179, -1.4973, -2.0411, -2.2991, -2.5629, -2.6569, -3.3506, -3.7897, -3.826, -4.05, -4.0977, -4.108, -4.1968, -4.2023, -4.5222, -4.719, -4.719, -4.872, -4.9744, -5.1642, -5.1642, -5.1642, -5.1642, -5.1642, -5.4145, -5.4765, -5.6607, -5.9019, -6.3637, -6.3637, -8.2049, -8.2049, -1.6908, -2.5424, -2.583, -2.625, -2.8841, -3.0752, -3.2646, -3.5569, -3.6095, -3.8407, -3.9819, -4.1822, -4.1886, -4.2304, -4.8566, -2.341, -5.3604, -3.8407, -4.8566, -5.6066, -5.6066, -5.6066, -8.1508, -8.1508, -8.1508, -8.1508, -8.1508, -8.1508, -8.1508, -8.1508, -8.1508, -8.1508, -8.1508, -8.1508, -8.1508, -8.1508, -8.1508, -1.2926, -1.6888, -2.6435, -3.0989, -3.3747, -3.5037, -3.7911, -3.8153, -4.0873, -4.1035, -4.1619, -4.2159, -4.2159, -4.2368, -4.4421, -4.5358, -4.6518, -4.6645, -4.8945, -5.1781, -5.404, -5.404, -5.404, -5.404, -5.6543, -5.6543, -5.6543, -4.8945, -5.1506, -5.2894, -0.9596, -2.8051, -2.9575, -2.9796, -3.2578, -3.4357, -3.6044, -3.9993, -4.0662, -4.3632, -4.3632, -4.3632, -4.6192, -4.7693, -4.8727, -5.0852, -5.123, -5.123, -5.123, -5.123, -5.123, -5.123, -5.8452, -5.8452, -5.8452, -5.8452, -5.8452, -7.9134, -7.9134, -7.9134, -7.9134, -7.9134, -7.9134, -1.5383, -1.9017, -1.9587, -3.1957, -3.3036, -3.3074, -4.0171, -4.0234, -4.0699, -4.2236, -4.3, -4.3555, -4.3843, -4.5061, -4.5061, -4.5396, -4.5985, -5.2016, -5.2016, -5.2016, -5.2016, -5.2016, -5.6889, -6.1508, -6.1508, -6.1508, -6.1508, -6.1508, -6.1508, -6.1508, -2.6871, -2.7149, -2.9344, -3.1844, -3.2094, -3.2256, -3.4478, -3.4679, -3.6407, -3.7305, -3.8025, -3.9154, -4.2484, -4.3518, -4.3518, -4.3639, -4.5435, -4.6072, -4.7587, -4.797, -4.797, -4.797, -4.797, -4.8928, -5.0473, -5.0473, -5.1093, -5.5346, -5.5346, -5.5346, -3.6828, -3.6039, -2.3011, -1.6981, -1.7673, -2.4989, -3.3119, -3.7663, -3.7663, -3.7663, -3.7663, -3.7663, -3.7663, -3.7663, -3.7933, -4.1192, -4.2368, -2.8742, -4.5262, -4.5905, -4.5905, -5.286, -3.7663, -5.5322, -4.7822, -4.7822, -5.7733, -6.0081, -8.0764, -8.0764, -8.0764, -8.0764, -8.0764, -8.0764, -8.0764, -8.0764, -8.0764, -8.0764, -2.1607, -2.7289, -2.7743, -2.9073, -3.0913, -3.1899, -3.2739, -3.344, -3.4658, -3.5484, -4.0788, -4.2206, -4.2206, -4.2206, -4.2206, -4.2206, -4.2206, -4.2206, -4.2206, -4.2206, -4.3184, -4.4766, -4.9804, -4.9804, -4.9804, -5.4677, -5.9296, -5.9296, -5.9296, -5.9296, -3.2712, -5.9296, -5.9296, -1.609, -2.202, -2.9174, -2.9877, -2.9886, -3.1625, -3.5952, -3.7178, -3.7451, -3.8791, -4.1091, -4.5152, -4.6186, -4.6186, -4.8313, -4.8689, -4.8689, -4.8689, -4.8689, -4.8689, -5.1151, -5.1151, -5.1151, -5.3563, -5.5911, -5.1151, -4.8704, -5.8181, -5.8181, -7.6593, -7.6572, -1.4508, -2.595, -2.8709, -3.0552, -3.4787, -3.7464, -4.1738, -4.1738, -4.1738, -4.1738, -4.1738, -4.1738, -4.4298, -4.4298, -4.4298, -2.5874, -3.1921, -3.5436, -5.4209, -5.6557, -5.8828, -5.8828, -5.8828, -7.724, -7.724, -7.724, -7.724, -7.724, -7.724, -7.724, -7.724, -7.724, -7.724, -7.724, -7.724, -7.724, -7.724, -2.1898, -2.6095, -3.0144, -3.0722, -3.1055, -3.2655, -3.3426, -3.3432, -3.358, -4.1025, -4.1025, -4.1025, -4.1176, -4.4222, -2.8498, -4.5736, -4.612, -4.612, -3.2227, -4.8623, -4.8623, -4.9242, -5.1085, -5.3496, -5.3496, -5.3496, -5.3496, -5.3496, -5.3496, -5.3496, -2.1134, -2.4014, -2.8655, -3.4645, -3.4645, -3.4645, -3.4645, -3.4645, -3.4645, -3.4645, -3.4645, -3.7469, -3.8604, -3.9816, -4.1853, -4.2244, -4.2244, -4.2244, -4.2244, -4.2244, -4.2244, -4.2244, -4.2244, -4.7022, -4.7339, -4.9841, -4.9841, -4.9841, -4.9841, -5.1932, -1.4951, -3.0121, -3.0121, -3.3866, -3.3866, -3.3866, -3.9654, -4.0047, -4.0555, -4.1465, -4.1465, -4.1465, -4.1717, -4.4025, -4.4025, -4.656, -4.9063, -2.5786, -5.3936, -5.8555, -2.4886, -7.6967, -7.6967, -7.6967, -7.6967, -7.6967, -7.6967, -7.6967, -7.6967, -7.6967, -7.6965, -7.6967, -7.6967, -7.6967, -7.6967, -7.6967, -7.6967, -7.6967, -7.6967, -2.0288, -3.2228, -3.2228, -3.29, -3.3542, -1.9045, -3.8694, -3.8694, -3.8694, -3.8694, -3.8694, -3.9337, -3.9337, -3.9337, -4.0867, -3.8694, -4.8382, -4.8754, -4.8755, -5.1165, -5.5784, -5.5784, -7.4196, -7.4196, -7.4196, -7.4196, -7.4196, -7.4196, -7.4196, -7.4196, -7.4196, -7.4196, -7.4196, -7.4196, -7.4196, -7.4196, -7.4196, -7.4196, -1.8751, -2.7728, -3.2146, -3.3421, -3.5163, -3.6649, -3.8067, -3.8067, -3.8067, -4.0627, -4.0627, -4.0627, -4.0627, -4.0627, -4.2846, -4.3162, -4.3162, -4.3162, -4.5665, -4.6285, -4.6285, -4.7756, -4.0627, -4.0627, -5.5157, -5.5157, -5.5157, -5.5157, -5.5157, -5.5157], \"loglift\": [30.0, 29.0, 28.0, 27.0, 26.0, 25.0, 24.0, 23.0, 22.0, 21.0, 20.0, 19.0, 18.0, 17.0, 16.0, 15.0, 14.0, 13.0, 12.0, 11.0, 10.0, 9.0, 8.0, 7.0, 6.0, 5.0, 4.0, 3.0, 2.0, 1.0, 2.0809, 2.0776, 2.0326, 2.0269, 2.003, 1.9968, 1.9789, 1.9605, 1.9381, 1.9274, 1.9188, 1.8999, 1.865, 1.8547, 1.8547, 1.8547, 1.8547, 1.8459, 1.809, 1.7586, 1.7586, 1.7341, 1.6625, 1.6426, 1.6326, 1.5158, 1.4773, 1.4287, 1.4287, 1.4287, 1.332, 2.2902, 2.2771, 2.2654, 2.2502, 2.1695, 2.1695, 2.1683, 2.1292, 2.0649, 2.0631, 2.05, 2.0428, 2.0097, 1.9762, 1.9762, 1.9762, 1.9545, 1.9545, 1.9545, 1.9545, 1.9545, 1.9496, 1.9316, 1.8841, 1.8841, 1.8841, 1.7777, 1.7334, 1.7081, 1.6571, 1.6455, 1.5919, 2.45, 2.445, 2.4102, 2.3659, 2.3284, 2.3224, 2.311, 2.2733, 2.2317, 2.1895, 2.0051, 2.0051, 1.9051, 1.7911, 1.7911, 1.5243, 1.3753, 1.3753, 1.2195, -0.5257, -0.5257, -0.5257, -0.5257, -0.5279, -0.5331, -0.5575, -0.5575, -0.5575, -0.5641, -0.5641, -1.0496, -1.1925, -1.6452, -1.4849, -1.1755, -1.1755, -1.1755, -1.3527, -0.5846, -0.5717, -1.3921, 2.7678, 2.6924, 2.692, 2.6854, 2.6636, 2.6601, 2.6554, 2.6416, 2.6414, 2.6255, 2.625, 2.545, 2.545, 2.545, 2.5274, 2.5091, 2.4988, 2.4988, 2.3924, 2.3305, 2.0834, 1.9849, 1.9849, 1.932, 1.8423, 1.8423, 1.6886, 1.3592, 1.3592, 1.3592, 1.1616, 2.8362, 2.7899, 2.7689, 2.7584, 2.6661, 2.6476, 2.6256, 2.5988, 2.5244, 2.5244, 2.5244, 2.494, 2.4744, 2.4744, 2.4744, 2.4744, 2.4638, 2.4638, 2.3129, 2.3129, 2.2013, 2.2013, 2.2013, 2.2013, 2.1713, 2.0764, 1.9394, 1.7777, 1.6389, 1.6389, 1.6389, 2.8473, 2.8315, 2.8206, 2.8063, 2.8002, 2.7353, 2.6682, 2.6615, 2.6154, 2.6045, 2.6021, 2.5805, 2.5791, 2.4884, 2.4217, 2.4217, 2.3637, 2.3218, 2.2373, 2.2373, 2.2373, 2.2373, 2.2373, 2.1122, 2.0788, 1.9739, 1.8243, 1.5018, 1.5018, -0.2816, -0.5718, 2.8913, 2.8544, 2.8518, 2.849, 2.829, 2.811, 2.7897, 2.7492, 2.7408, 2.6991, 2.6695, 2.6216, 2.6199, 2.6089, 2.3999, 2.213, 2.1645, 2.1642, 2.0486, 2.0265, 2.0265, 2.0265, -0.2275, -0.2275, -0.2275, -0.2275, -0.2297, -0.2349, -0.2593, -0.2593, -0.8943, -0.9909, -1.6561, -1.419, -0.5016, -0.6265, -0.5016, 2.9139, 2.9045, 2.8597, 2.8194, 2.7858, 2.767, 2.7172, 2.7125, 2.6523, 2.6483, 2.6335, 2.6192, 2.6192, 2.6135, 2.553, 2.5223, 2.4817, 2.4771, 2.3865, 2.2571, 2.1397, 2.1397, 2.1397, 2.1397, 1.9949, 1.9949, 1.9949, 1.8441, 1.7547, 1.6222, 3.0321, 2.9533, 2.9386, 2.9363, 2.903, 2.8771, 2.8487, 2.765, 2.7481, 2.6624, 2.6624, 2.6624, 2.5732, 2.5138, 2.4698, 2.3709, 2.3521, 2.3521, 2.3521, 2.3521, 2.3521, 2.3521, 1.9264, 1.9264, 1.9264, 1.9264, 1.9264, 0.0099, 0.0099, 0.0099, -0.3676, -0.5142, -1.2531, 3.0486, 3.0364, 3.0341, 2.936, 2.9211, 2.9206, 2.7811, 2.7794, 2.7673, 2.7239, 2.7006, 2.6828, 2.6734, 2.6313, 2.6313, 2.6191, 2.597, 2.3227, 2.3227, 2.3227, 2.3227, 2.3227, 2.0356, 1.7136, 1.7136, 1.7136, 1.7136, 1.7136, 1.7136, 1.7136, 3.0045, 3.0021, 2.9812, 2.9517, 2.9484, 2.9462, 2.913, 2.9097, 2.8787, 2.8607, 2.8454, 2.8196, 2.7295, 2.6969, 2.6969, 2.693, 2.6302, 2.6062, 2.5451, 2.5288, 2.5288, 2.5288, 2.5288, 2.4864, 2.4132, 2.4132, 2.3822, 2.1435, 2.1435, 1.8926, 1.854, 1.6655, 0.5361, 3.0719, 3.0694, 3.0311, 2.944, 2.8613, 2.8613, 2.8613, 2.8613, 2.8613, 2.8613, 2.8613, 2.8554, 2.7733, 2.7386, 2.6626, 2.6403, 2.6159, 2.6159, 2.2869, 2.2386, 2.1418, 2.079, 2.079, 1.9859, 1.8218, -0.1531, -0.1531, -0.1531, -0.1531, -0.1554, -2.3986, -0.6012, -0.763, -0.7839, -1.4161, 3.287, 3.2373, 3.2321, 3.2157, 3.1895, 3.1738, 3.1593, 3.1465, 3.1223, 3.1045, 2.9599, 2.9113, 2.9113, 2.9113, 2.9113, 2.9113, 2.9113, 2.9113, 2.9113, 2.9113, 2.8751, 2.8118, 2.5689, 2.5689, 2.5689, 2.2747, 1.9469, 1.9469, 1.9469, 1.9469, 1.8612, 1.9469, 1.9469, 3.3683, 3.3353, 3.2621, 3.2521, 3.252, 3.2245, 3.1365, 3.1057, 3.0985, 3.0607, 2.9872, 2.8276, 2.7806, 2.7806, 2.6756, 2.6558, 2.6558, 2.6558, 2.6558, 2.6558, 2.5178, 2.5178, 2.5178, 2.3685, 2.2104, 2.1386, 2.048, 2.0464, 2.0464, 0.264, -4.5715, 3.4389, 3.3602, 3.3255, 3.2973, 3.2138, 3.1449, 3.0043, 3.0043, 3.0043, 3.0043, 3.0043, 3.0043, 2.8999, 2.8999, 2.8999, 2.5449, 2.5331, 2.5092, 2.3438, 2.1787, 2.0087, 2.0087, 2.0087, 0.1993, 0.1993, 0.1993, 0.1993, 0.197, 0.1919, 0.1608, -1.4681, -0.0909, -0.5921, -0.5921, -0.5921, -0.0674, 0.0005, 3.4325, 3.3919, 3.3356, 3.3258, 3.32, 3.2896, 3.2736, 3.2735, 3.2703, 3.055, 3.055, 3.055, 3.0494, 2.9248, 2.8754, 2.8545, 2.8357, 2.8357, 2.8301, 2.7045, 2.7045, 2.6696, 2.5603, 2.4052, 2.4052, 2.4052, 2.4052, 2.4052, 2.4052, 2.4052, 3.5068, 3.4805, 3.4209, 3.3007, 3.3007, 3.3007, 3.3007, 3.3007, 3.3007, 3.3007, 3.3007, 3.2218, 3.1855, 3.1435, 3.0652, 3.0491, 3.0491, 3.0491, 3.0491, 3.0491, 3.0491, 3.0491, 3.0491, 2.8211, 2.804, 2.6601, 2.6601, 2.6601, 2.6601, 2.5284, 3.5904, 3.4363, 3.4363, 3.3565, 3.3565, 3.3565, 3.1804, 3.1658, 3.1464, 3.11, 3.11, 3.11, 3.0996, 2.9969, 2.9969, 2.8689, 2.7268, 2.5537, 2.4079, 2.0604, 0.3486, 0.2266, 0.2266, 0.2266, 0.2266, 0.2244, 0.1948, 0.1948, 0.1948, 0.1882, -3.8544, -1.0363, -0.5624, -0.5624, 0.075, -1.2634, -1.3068, -2.4272, -1.4719, 3.6253, 3.4528, 3.4528, 3.4371, 3.4213, 3.365, 3.2648, 3.2648, 3.2648, 3.2648, 3.2648, 3.2412, 3.2412, 3.2412, 3.1811, 2.8692, 2.8022, 2.7799, 2.4355, 2.3107, 2.2988, 2.2988, 0.5037, 0.5037, 0.5037, 0.5037, 0.5014, 0.4963, 0.4719, 0.4719, -0.2491, -0.1631, -0.1631, -0.419, 0.3353, -0.9486, -0.2945, 0.4459, 3.6842, 3.5814, 3.4938, 3.4624, 3.4143, 3.3684, 3.3201, 3.3201, 3.3201, 3.221, 3.221, 3.221, 3.221, 3.221, 3.1223, 3.1073, 3.1073, 3.1073, 2.9793, 2.9452, 2.9452, 2.8605, 2.7984, 2.7984, 2.3591, 2.3591, 2.3591, 2.3591, 2.3591, 2.3591]}, \"token.table\": {\"Topic\": [10, 6, 1, 6, 8, 20, 17, 20, 15, 11, 10, 13, 8, 19, 4, 15, 19, 2, 11, 11, 5, 14, 10, 10, 12, 9, 3, 13, 5, 17, 8, 4, 12, 5, 12, 14, 10, 7, 8, 17, 17, 7, 8, 7, 8, 8, 3, 4, 1, 13, 15, 18, 12, 4, 13, 5, 13, 8, 9, 13, 13, 11, 1, 19, 13, 10, 10, 5, 11, 11, 19, 5, 4, 1, 8, 13, 1, 7, 12, 14, 4, 10, 18, 17, 11, 6, 10, 13, 14, 11, 11, 11, 6, 4, 4, 8, 13, 8, 1, 2, 11, 20, 2, 8, 2, 14, 4, 4, 1, 4, 10, 4, 3, 1, 2, 1, 18, 11, 11, 10, 16, 16, 15, 20, 17, 5, 1, 20, 6, 19, 11, 15, 17, 17, 13, 7, 17, 7, 6, 1, 15, 12, 20, 1, 14, 8, 6, 18, 17, 7, 13, 13, 16, 8, 12, 6, 19, 2, 9, 20, 17, 15, 16, 5, 6, 1, 2, 12, 15, 6, 1, 1, 1, 14, 5, 7, 2, 2, 15, 3, 11, 2, 12, 20, 3, 14, 20, 16, 18, 16, 2, 14, 15, 6, 15, 3, 14, 16, 12, 1, 5, 10, 1, 16, 4, 14, 14, 1, 16, 6, 9, 5, 19, 1, 9, 11, 13, 7, 2, 2, 6, 9, 1, 13, 1, 6, 18, 18, 10, 12, 2, 9, 7, 19, 1, 7, 19, 15, 4, 2, 17, 8, 19, 16, 14, 5, 11, 1, 9, 17, 5, 5, 5, 8, 6, 17, 16, 16, 18, 12, 12, 10, 7, 12, 5, 17, 4, 13, 2, 2, 7, 3, 2, 4, 7, 2, 13, 7, 8, 14, 10, 16, 2, 2, 4, 13, 17, 9, 17, 10, 20, 7, 20, 14, 6, 8, 4, 8, 6, 5, 3, 6, 9, 11, 12, 1, 5, 18, 2, 9, 14, 5, 14, 5, 8, 4, 3, 16, 16, 18, 16, 18, 2, 20, 17, 6, 8, 5, 2, 17, 11, 10, 3, 3, 18, 3, 9, 11, 1, 14, 3, 13, 11, 17, 9, 14, 6, 5, 17, 13, 4, 13, 9, 19, 5, 20, 2, 11, 18, 14, 14, 20, 20, 7, 9, 6, 14, 18, 8, 16, 8, 4, 9, 2, 20, 2, 12, 9, 9, 11, 19, 11, 12, 1, 11, 2, 19, 13, 2, 3, 9, 7, 11, 19, 4, 8, 3, 11, 1, 2, 6, 19, 17, 10, 18, 12, 20, 18, 20, 2, 10, 1, 14, 6, 20, 17, 15, 13, 20, 8, 12, 20, 4, 9, 15, 16, 9, 5, 11, 15, 15, 7, 19, 13, 16, 10, 6, 7, 14, 8, 10, 2, 16, 1, 17, 1, 10, 9, 7, 5, 5, 12, 14, 11, 15, 16, 15, 8, 12, 2, 5, 18, 13, 11, 20, 16, 6, 18, 7, 4, 17, 20, 12], \"Freq\": [0.4504105417472037, 0.9333912715791495, 0.6647569449659798, 0.7789317714583542, 0.6698031202119534, 0.6511409487113873, 0.6854610359853383, 0.6620172715296221, 0.5179497747389947, 0.9135792397732106, 0.7322230009657589, 0.9178017178884933, 0.33375977350536057, 0.33375977350536057, 0.8688158839781066, 0.5179498283335487, 0.6598405643816804, 0.784482293723229, 0.8792617719727066, 0.6003729152091397, 0.8744798671538058, 0.9392319557173076, 0.8011569382233718, 0.7366137301020125, 0.8960746932515835, 0.8795614914898376, 0.6795293301758178, 0.9248750298803209, 0.9644282505497723, 0.685460966169284, 0.5741198662491509, 0.939754051792849, 0.9467075914830637, 0.6670991592482266, 0.8969310662282335, 0.974910104961117, 0.8674293876768212, 0.8417795455484177, 0.981648359476605, 0.6854609748918546, 0.6854609748918546, 0.39426497339842026, 0.39426497339842026, 0.9176070849853313, 0.746579186803937, 0.7463723476067061, 0.5929968044738638, 0.868815881641709, 0.47693235134192224, 0.20088300883838148, 0.40176601767676295, 0.3348050147306358, 0.8960746938626689, 0.6916956860073973, 0.8613119165948229, 0.8744798671538058, 0.4945806340691659, 0.45941450032608855, 0.8894086875972101, 0.7507567034079584, 0.49458063472554764, 0.6869517715992978, 0.8866470749095264, 0.626722103885124, 0.9015545972731757, 0.9095200283380359, 0.970247542847482, 0.9707920693794266, 0.5156842616199343, 0.6003729192088728, 0.4957310746673713, 0.8947734205057878, 0.9876200284984556, 0.9419114835820673, 0.6763779567884788, 0.7811880332550957, 0.8579492032157735, 0.480727313108163, 0.480727313108163, 0.732517346148064, 0.880179468786495, 0.7322229913416726, 0.9584336918057381, 0.6854609715608291, 0.6003729135491795, 0.49893884016790324, 0.7322230027978408, 0.7377726371046924, 0.7414028322323164, 0.9149090848791576, 0.6651188928642136, 0.4550877058397899, 0.9306189868548465, 0.925843088511489, 0.868815881416277, 0.8626687574054207, 0.844689408837597, 0.706510412472538, 0.8143443446570016, 0.45825058037731037, 0.7085424208049121, 0.7692680813545613, 0.3967863300142998, 0.3967863300142998, 0.8530400254549222, 0.816257164179943, 0.8870355511037525, 0.7879523148244355, 0.7719760680427306, 0.8983886762187471, 0.711773873883364, 0.7559759788596494, 0.94276256820651, 0.9521259331489331, 0.6584666047290525, 0.953106477013331, 0.6704933537148827, 0.5873008080074705, 0.4550877058397899, 0.7322230009657589, 0.905041155714547, 0.613266423305476, 0.6373698410953683, 0.4920583934218161, 0.8402462090844427, 0.5806936177437667, 0.890783750368554, 0.6620172715296221, 0.6476291866126117, 0.4957310746673713, 0.9144889636935134, 0.9148202020832847, 0.5697636605110665, 0.7315243234759432, 0.49458063472554764, 0.7158291226536174, 0.6854609748918546, 0.7326329590774469, 0.5486698114523446, 0.6647569394292094, 0.6027311790559737, 0.9787792280857182, 0.575678594337696, 0.7719760721194429, 0.4772618584511849, 0.9360825317427476, 0.6938837925065484, 0.6704933537148827, 0.8725972956928295, 0.9061175396578884, 0.7507567066057, 0.9175975939919583, 0.8744056524304619, 0.9703053556319501, 0.8960746938626689, 0.6487384148471044, 0.6267220586133462, 0.7740952463509343, 0.8766346311072737, 0.7129634707724124, 0.5697636608634863, 0.5179497408919259, 0.7122065627014922, 0.9295498466405583, 0.6476291839940932, 0.6292704765522341, 0.45825058325399326, 0.8238547045464998, 0.9455638987312744, 0.9256984449108366, 0.49463088553511453, 0.9894427550841807, 0.968148098311762, 0.7325173521573869, 0.6670991592482266, 0.8163672981550527, 0.482563160175668, 0.478182288365924, 0.5179497747389947, 0.9951168038789423, 0.6869517715992978, 0.6254519304418661, 0.3772700796968756, 0.3772700796968756, 0.9961895966848435, 0.816257164179943, 0.8088413906262201, 0.9580841783378641, 0.7326268094605309, 0.8966299025629054, 0.478182288365924, 0.816257164179943, 0.5179498283335487, 0.9746877930787723, 0.517949753301552, 0.9559002044042789, 0.7195427197916354, 0.5073705102648859, 0.5119794965513813, 0.669518030562927, 0.9813575218752737, 0.7985791072936305, 0.8579492032157735, 0.7849371029395688, 0.796572875418386, 0.6461430541544125, 0.8163082987132396, 0.5034704602571464, 0.7639711958506622, 0.6476291875702191, 0.6971085504084493, 0.6887546412151776, 0.5665598787207321, 0.8200716505980927, 0.6971085504084493, 0.8480018031882689, 0.49458063472554764, 0.8163672450066201, 0.7120230531506193, 0.478182288365924, 0.981288725288418, 0.8894086875972101, 0.8579492032157735, 0.49458063774248895, 0.8544161976452264, 0.49893884016790324, 0.5685375825181258, 0.6704933537148827, 0.4972568591107657, 0.8960746938626689, 0.5915632265294193, 0.6839513992867903, 0.9575334581513167, 0.49573107406955624, 0.8239995083652789, 0.9655254504121498, 0.495731077832966, 0.7762292292077821, 0.8139213279833334, 0.6766508260545386, 0.8502003426465515, 0.9764793465262052, 0.6926255963194656, 0.678237431680048, 0.8113550450502702, 0.8947734205057878, 0.9335605953422524, 0.8579492032157735, 0.6848541947145652, 0.742232737335167, 0.6670991531551232, 0.766153630807952, 0.7530985686847506, 0.49537335797684756, 0.8761363958675625, 0.6854610359853383, 0.5073705102648859, 0.678237431680048, 0.5304103629233924, 0.8960746938626689, 0.8457997142835811, 0.4591959834096936, 0.8537840649776319, 0.5327878344246803, 0.9360845705825972, 0.5697636605110665, 0.9421141693482901, 0.5260039898206547, 0.7477695289818784, 0.48817195585253603, 0.48817195585253603, 0.5086038402228704, 0.7884989160557947, 0.677453488067065, 0.9053321657510798, 0.880328192817139, 0.49458063472554764, 0.5602023705008294, 0.7465791682750319, 0.6107109912346346, 0.5270476063619977, 0.7639711918889885, 0.9242581848843363, 0.45825058325399326, 0.656032737871309, 0.49458063472554764, 0.4912163016875471, 0.6971085504084493, 0.5697637159968004, 0.9374406124583076, 0.4920583934218161, 0.8163672652266599, 0.6620172715296221, 0.7325173507231135, 0.7552622411453941, 0.6681764528711139, 0.7938161946418938, 0.8817562358226984, 0.9265962516628468, 0.6670991592482266, 0.8868021954820808, 0.69674339526922, 0.7199978677788395, 0.8640742043094657, 0.7785416768125943, 0.8203109472082731, 0.8363155946560653, 0.5601909203763674, 0.539913960392179, 0.9364104247989767, 0.9035098996868356, 0.5586281267269728, 0.5586281267269728, 0.8744798671538058, 0.7350938625861263, 0.677453488067065, 0.9835255037475927, 0.5122227684442335, 0.7320598335768977, 0.6462512660266807, 0.665056897075174, 0.560190900984637, 0.7801786027947355, 0.4920583731825269, 0.5697637159968004, 0.6436639988728442, 0.7465791682750319, 0.9698622859793752, 0.924789338218929, 0.849396558859476, 0.9467173987524681, 0.7322230027978408, 0.8488734627392622, 0.8497414326538522, 0.7490390132040445, 0.6579952837855473, 0.7526173444586974, 0.4588078896532468, 0.8492497098306331, 0.9541098116964889, 0.6795293303558264, 0.7507567078925654, 0.6332868937440259, 0.5568484729232441, 0.6971085456032399, 0.6461430415834409, 0.7339828029849028, 0.8404979126959226, 0.5697636597576333, 0.4945806340691659, 0.9354315818384779, 0.45057612227272587, 0.8894086875972101, 0.9026912439121694, 0.775880422183233, 0.8963101267980861, 0.8837701099217018, 0.08095604060351466, 0.04047802030175733, 0.8107415975381775, 0.6629121862301212, 0.575678594337696, 0.7692680787628933, 0.8662463797497025, 0.9845005953011554, 0.5828887367960487, 0.7325173538549165, 0.6462512581313005, 0.8361243994592592, 0.5073705102648859, 0.8108797800934866, 0.9160931467407772, 0.5254413621106229, 0.9140274618392963, 0.7481253213839559, 0.539913960392179, 0.8960746938626689, 0.8720868850967274, 0.6105021334435832, 0.23041336688853464, 0.6912401006656039, 0.301042571187771, 0.602085142375542, 0.9547687136065718, 0.9303745003432642, 0.7440091960431301, 0.5163058229448289, 0.9628560246360888, 0.7801786027947355, 0.8623941133578203, 0.5753329325903775, 0.7124317974802051, 0.9370916400684846, 0.49573107406955624, 0.4996075286535864, 0.4993890440042284, 0.5086038488970839, 0.6003729135491795, 0.9947566385561173, 0.478182288365924, 0.6476291839940932, 0.5163058229448289, 0.6854610359853383, 0.9317953121273967, 0.5601909098663365, 0.3772700796968756, 0.3772700796968756, 0.5015041799238477, 0.575678594337696, 0.49876087735549146, 0.7084540004791815, 0.39948982781833653, 0.39948982781833653, 0.6476291875702191, 0.9089975859787818, 0.5697636760082435, 0.9073872754053797, 0.5783268064209244, 0.575678594337696, 0.7465791682750319, 0.5327878344246803, 0.575678594337696, 0.7559759738538906, 0.6971085484556556, 0.3634363760595909, 0.4845818347461212, 0.8623336785897233, 0.775880422183233, 0.5365349270488999, 0.6027311790559737, 0.6027311790559737, 0.7382137927633352, 0.5163058229448289, 0.4945806340691659, 0.8858788316453171, 0.4972568591107657, 0.7562316778267114, 0.8206900256628923, 0.7325173556235021, 0.7953067445084946, 0.5079865635484063, 0.539913960392179, 0.8334450759334552, 0.5998528391495757, 0.5697636605110665, 0.6647569449659798, 0.8226291574012221, 0.6971085504084493, 0.9423298980881053, 0.775880422183233, 0.8744799728539033, 0.9151456040377366, 0.7266779055019498, 0.8041092018848569, 0.33620366197148666, 0.5043054929572299, 0.7776224268558211, 0.7350938625861263, 0.7686811841353075, 0.478182288365924, 0.5806936271907203, 0.5140248076560081, 0.9189662844731892, 0.9611936144316805, 0.9235702160375325, 0.8863142103524969, 0.8687408681741666, 0.7490390127493587, 0.9595689198155066, 0.8966088793947724, 0.45379298057235723, 0.6476318516855878, 0.8960746938626689], \"Term\": [\"absolutely\", \"access\", \"accomdating\", \"accommodate\", \"accommodating\", \"accommodation\", \"acknowledgement\", \"advantage\", \"age\", \"air\", \"also\", \"always\", \"amazing\", \"amazing\", \"amenditie\", \"amenitite\", \"amenity\", \"appreciate\", \"area\", \"arrival\", \"arrive\", \"arrogant\", \"aspect\", \"atmosphere\", \"attend\", \"attentive\", \"attitude\", \"available\", \"average\", \"avoid\", \"awesome\", \"back\", \"bad\", \"badly\", \"bar\", \"bathroom\", \"beach\", \"beautiful\", \"bed\", \"bedding\", \"best\", \"better\", \"better\", \"big\", \"bike\", \"bit\", \"bite\", \"book\", \"break\", \"breakfast\", \"breakfast\", \"breakfast\", \"broke\", \"broken\", \"buffet\", \"bus\", \"care\", \"carpet\", \"case\", \"catastrophic\", \"category\", \"cause\", \"centrally\", \"chair\", \"charge\", \"cheap\", \"check\", \"child\", \"chocolate\", \"cigarette\", \"city\", \"class\", \"clean\", \"cleaning\", \"cleanliness\", \"close\", \"club\", \"coffee\", \"coffee\", \"colleague\", \"come\", \"comfort\", \"comfortable\", \"comfy\", \"common\", \"completely\", \"completion\", \"complimentary\", \"concierge\", \"condition\", \"conditioning\", \"conference\", \"connection\", \"convenient\", \"convienient\", \"corridor\", \"cost\", \"could\", \"courteous\", \"courtesy\", \"cozy\", \"daily\", \"dark\", \"dark\", \"date\", \"dated\", \"day\", \"decent\", \"decorate\", \"definitely\", \"delightful\", \"departure\", \"design\", \"desk\", \"dining\", \"dirty\", \"disappointed\", \"disappointing\", \"dissatisfied\", \"distinct\", \"early\", \"easy\", \"effective\", \"elegant\", \"elevator\", \"else\", \"employee\", \"empty\", \"encounter\", \"end\", \"enjoy\", \"enough\", \"equip\", \"equipment\", \"even\", \"evening\", \"ever\", \"everywhere\", \"exceed\", \"exceedingly\", \"exceelent\", \"excellent\", \"exceptional\", \"exceptionally\", \"exercise\", \"expect\", \"expectation\", \"expenseive\", \"expensive\", \"experience\", \"extensive\", \"extra\", \"extremely\", \"facility\", \"fall\", \"family\", \"far\", \"fashioned\", \"fast\", \"feel\", \"fiance\", \"file\", \"find\", \"fine\", \"finish\", \"first\", \"fitness\", \"floor\", \"food\", \"free\", \"friendliness\", \"friendly\", \"front\", \"frontdesk\", \"full\", \"fully\", \"furnish\", \"furniture\", \"go\", \"good\", \"gorgeous\", \"grade\", \"grand\", \"grand\", \"great\", \"greet\", \"ground\", \"guest\", \"happy\", \"hard\", \"heat\", \"heating\", \"help\", \"helpful\", \"helpfulness\", \"high\", \"highly\", \"honeymoon\", \"horrible\", \"hospitable\", \"hotel\", \"hour\", \"housekeeping\", \"however\", \"husband\", \"hygiene\", \"immaculate\", \"impeccable\", \"impersonal\", \"impossible\", \"impression\", \"improve\", \"inadequate\", \"incompetent\", \"ineffective\", \"inefficient\", \"inform\", \"infrastructure\", \"inhospitable\", \"interior\", \"internet\", \"issue\", \"job\", \"kid\", \"knowledgeable\", \"lack\", \"large\", \"last\", \"late\", \"leg\", \"lift\", \"like\", \"lobby\", \"local\", \"locate\", \"location\", \"locatoin\", \"long\", \"lose\", \"lounge\", \"love\", \"loved\", \"low\", \"luggage\", \"luxurious\", \"luxury\", \"maintain\", \"maintenance\", \"make\", \"malfunctioning\", \"management\", \"many\", \"marvellous\", \"mattress\", \"meet\", \"member\", \"memorable\", \"misplace\", \"modern\", \"mom\", \"money\", \"morning\", \"much\", \"music\", \"need\", \"neighborhood\", \"never\", \"newspaper\", \"next\", \"nice\", \"nice\", \"nicer\", \"night\", \"nightmare\", \"noise\", \"noisy\", \"non\", \"notch\", \"nutshell\", \"odor\", \"offer\", \"ok\", \"old\", \"open\", \"order\", \"otherwise\", \"outdate\", \"outdoor\", \"outlet\", \"outstanding\", \"overall\", \"overprice\", \"overrate\", \"overwhelm\", \"park\", \"parking\", \"pay\", \"people\", \"perfect\", \"perfection\", \"performance\", \"personnel\", \"pick\", \"pillow\", \"place\", \"pleasant\", \"pleasure\", \"point\", \"policy\", \"pool\", \"poor\", \"poorly\", \"poorly\", \"possible\", \"pressure\", \"previous\", \"price\", \"problem\", \"professional\", \"professionalism\", \"program\", \"prompt\", \"proof\", \"property\", \"propose\", \"provide\", \"put\", \"quality\", \"quick\", \"quiet\", \"quite\", \"rapid\", \"rather\", \"ratio\", \"ready\", \"real\", \"really\", \"reasonable\", \"reception\", \"recommend\", \"recommendation\", \"refill\", \"regional\", \"relatively\", \"reliable\", \"remodel\", \"remote\", \"renovation\", \"repair\", \"request\", \"reservation\", \"respect\", \"response\", \"restaurant\", \"restoration\", \"return\", \"room\", \"room\", \"room\", \"rude\", \"run\", \"satisfactory\", \"satisfied\", \"selection\", \"service\", \"set\", \"sewer\", \"shape\", \"sheet\", \"short\", \"shower\", \"shuttle\", \"site\", \"size\", \"sleep\", \"slipper\", \"slippery\", \"slow\", \"slowly\", \"small\", \"small\", \"smell\", \"smell\", \"smelly\", \"smoke\", \"smoking\", \"soap\", \"soft\", \"sound\", \"soundproof\", \"spa\", \"space\", \"spacious\", \"specialty\", \"spend\", \"sport\", \"spot\", \"spotless\", \"staff\", \"stain\", \"star\", \"station\", \"status\", \"stay\", \"store\", \"structure\", \"structure\", \"stylish\", \"suggestion\", \"suite\", \"super\", \"support\", \"support\", \"surf\", \"surrounding\", \"system\", \"take\", \"taxi\", \"tea\", \"tear\", \"terrible\", \"terrific\", \"thank\", \"thought\", \"time\", \"time\", \"tiny\", \"tired\", \"tobacco\", \"toothbrush\", \"toothpaste\", \"top\", \"train\", \"treat\", \"treatment\", \"trouble\", \"tv\", \"unavailable\", \"unclean\", \"uncomfortable\", \"uncomplicated\", \"unexpected\", \"unfortunately\", \"unfriendly\", \"unit\", \"unobtrusive\", \"unpleasant\", \"unreliable\", \"upgrade\", \"urgently\", \"user\", \"value\", \"ventilation\", \"view\", \"wait\", \"wait\", \"waitress\", \"water\", \"way\", \"wear\", \"website\", \"week\", \"welcome\", \"welcoming\", \"well\", \"wife\", \"wifi\", \"wireless\", \"wonderful\", \"work\", \"working\", \"would\", \"year\"]}, \"R\": 30, \"lambda.step\": 0.01, \"plot.opts\": {\"xlab\": \"PC1\", \"ylab\": \"PC2\"}, \"topic.order\": [16, 8, 2, 15, 5, 6, 14, 13, 18, 17, 7, 12, 19, 20, 9, 4, 3, 1, 10, 11]};\n",
              "\n",
              "function LDAvis_load_lib(url, callback){\n",
              "  var s = document.createElement('script');\n",
              "  s.src = url;\n",
              "  s.async = true;\n",
              "  s.onreadystatechange = s.onload = callback;\n",
              "  s.onerror = function(){console.warn(\"failed to load library \" + url);};\n",
              "  document.getElementsByTagName(\"head\")[0].appendChild(s);\n",
              "}\n",
              "\n",
              "if(typeof(LDAvis) !== \"undefined\"){\n",
              "   // already loaded: just create the visualization\n",
              "   !function(LDAvis){\n",
              "       new LDAvis(\"#\" + \"ldavis_el611407076477956323064113991\", ldavis_el611407076477956323064113991_data);\n",
              "   }(LDAvis);\n",
              "}else if(typeof define === \"function\" && define.amd){\n",
              "   // require.js is available: use it to load d3/LDAvis\n",
              "   require.config({paths: {d3: \"https://d3js.org/d3.v5\"}});\n",
              "   require([\"d3\"], function(d3){\n",
              "      window.d3 = d3;\n",
              "      LDAvis_load_lib(\"https://cdn.rawgit.com/bmabey/pyLDAvis/files/ldavis.v3.0.0.js\", function(){\n",
              "        new LDAvis(\"#\" + \"ldavis_el611407076477956323064113991\", ldavis_el611407076477956323064113991_data);\n",
              "      });\n",
              "    });\n",
              "}else{\n",
              "    // require.js not available: dynamically load d3 & LDAvis\n",
              "    LDAvis_load_lib(\"https://d3js.org/d3.v5.js\", function(){\n",
              "         LDAvis_load_lib(\"https://cdn.rawgit.com/bmabey/pyLDAvis/files/ldavis.v3.0.0.js\", function(){\n",
              "                 new LDAvis(\"#\" + \"ldavis_el611407076477956323064113991\", ldavis_el611407076477956323064113991_data);\n",
              "            })\n",
              "         });\n",
              "}\n",
              "</script>"
            ],
            "text/plain": [
              "PreparedData(topic_coordinates=              x         y  topics  cluster       Freq\n",
              "topic                                                \n",
              "15    -0.176986 -0.364126       1        1  12.402921\n",
              "7      0.322659 -0.156759       2        1   9.281485\n",
              "1     -0.095389 -0.080158       3        1   8.558119\n",
              "14    -0.073241 -0.007028       4        1   6.196575\n",
              "4     -0.045588  0.042541       5        1   5.789743\n",
              "5     -0.059560  0.017470       6        1   5.672034\n",
              "13     0.042306 -0.044905       7        1   5.395555\n",
              "12    -0.070894 -0.023545       8        1   5.320649\n",
              "17    -0.039863  0.047496       9        1   4.747172\n",
              "16    -0.043993  0.043261      10        1   4.609184\n",
              "6      0.193548 -0.029769      11        1   4.539964\n",
              "11    -0.021943  0.030020      12        1   4.476304\n",
              "18    -0.006780  0.079274      13        1   3.487878\n",
              "19    -0.028222  0.061527      14        1   3.301819\n",
              "8     -0.002575  0.092747      15        1   3.087320\n",
              "3     -0.024811  0.088809      16        1   2.973879\n",
              "2     -0.029039  0.065737      17        1   2.759172\n",
              "0      0.172107 -0.006005      18        1   2.629593\n",
              "9      0.003661  0.066506      19        1   2.445834\n",
              "10    -0.015397  0.076906      20        1   2.324800, topic_info=            Term        Freq       Total Category  logprob  loglift\n",
              "1           room  148.000000  148.000000  Default  30.0000  30.0000\n",
              "28         staff  115.000000  115.000000  Default  29.0000  29.0000\n",
              "66         great   86.000000   86.000000  Default  28.0000  28.0000\n",
              "33         hotel   56.000000   56.000000  Default  27.0000  27.0000\n",
              "26      friendly   75.000000   75.000000  Default  26.0000  26.0000\n",
              "..           ...         ...         ...      ...      ...      ...\n",
              "25     excursion    0.236627    0.961944  Topic20  -5.5157   2.3591\n",
              "27      offering    0.236627    0.961944  Topic20  -5.5157   2.3591\n",
              "119         home    0.236627    0.961944  Topic20  -5.5157   2.3591\n",
              "120  immediately    0.236627    0.961944  Topic20  -5.5157   2.3591\n",
              "150  environment    0.236627    0.961944  Topic20  -5.5157   2.3591\n",
              "\n",
              "[693 rows x 6 columns], token_table=      Topic      Freq           Term\n",
              "term                                \n",
              "115      10  0.450411     absolutely\n",
              "256       6  0.933391         access\n",
              "421       1  0.664757    accomdating\n",
              "117       6  0.778932    accommodate\n",
              "112       8  0.669803  accommodating\n",
              "...     ...       ...            ...\n",
              "40        7  0.959569      wonderful\n",
              "198       4  0.896609           work\n",
              "404      17  0.453793        working\n",
              "107      20  0.647632          would\n",
              "555      12  0.896075           year\n",
              "\n",
              "[473 rows x 3 columns], R=30, lambda_step=0.01, plot_opts={'xlab': 'PC1', 'ylab': 'PC2'}, topic_order=[16, 8, 2, 15, 5, 6, 14, 13, 18, 17, 7, 12, 19, 20, 9, 4, 3, 1, 10, 11])"
            ]
          },
          "metadata": {
            "tags": []
          },
          "execution_count": 38
        }
      ]
    },
    {
      "cell_type": "markdown",
      "metadata": {
        "id": "tz-P-uUAWsLu"
      },
      "source": [
        "# 7. Find the optimal number of topics for LDA model"
      ]
    },
    {
      "cell_type": "code",
      "metadata": {
        "id": "F1DHUoerWVp6"
      },
      "source": [
        "def compute_coherence_values(dictionary, corpus, texts, limit=11, start=2, step=1):\n",
        "    \"\"\"\n",
        "    Compute c_v coherence for various number of topics\n",
        "\n",
        "    Parameters:\n",
        "    ----------\n",
        "    dictionary : Gensim dictionary\n",
        "    corpus : Gensim corpus\n",
        "    texts : List of input texts\n",
        "    limit : Max num of topics\n",
        "\n",
        "    Returns:\n",
        "    -------\n",
        "    model_list : List of LDA topic models\n",
        "    coherence_values : Coherence values corresponding to the LDA model with respective number of topics\n",
        "    \"\"\"\n",
        "    coherence_values = []\n",
        "    model_list = []\n",
        "    for num_topics in range(start, limit, step):\n",
        "        model = gensim.models.ldamodel.LdaModel(corpus = corpus,\n",
        "                                                id2word = id2word,\n",
        "                                                num_topics = num_topics,\n",
        "                                                random_state = 100,\n",
        "                                                #update_every = 1, \n",
        "                                                chunksize = 100, \n",
        "                                                passes = 10,\n",
        "                                                alpha = 'auto')\n",
        "        model_list.append(model)\n",
        "        coherencemodel = CoherenceModel(model=model, \n",
        "                                        texts=texts, \n",
        "                                        dictionary=dictionary, \n",
        "                                        coherence='c_v')\n",
        "        coherence_values.append(coherencemodel.get_coherence())\n",
        "\n",
        "    return model_list, coherence_values"
      ],
      "execution_count": 39,
      "outputs": []
    },
    {
      "cell_type": "code",
      "metadata": {
        "id": "KC3CSJKuYSx-"
      },
      "source": [
        "# Run the model (take a long time)\n",
        "model_list, coherence_values = compute_coherence_values(dictionary=id2word, \n",
        "                                                        corpus = corpus, \n",
        "                                                        texts = data_lemmatized, \n",
        "                                                        start=2, \n",
        "                                                        limit=11,\n",
        "                                                        step = 1)"
      ],
      "execution_count": 40,
      "outputs": []
    },
    {
      "cell_type": "code",
      "metadata": {
        "colab": {
          "base_uri": "https://localhost:8080/",
          "height": 279
        },
        "id": "nd_KfwQuYkst",
        "outputId": "e4bf61ad-1af4-41ae-ef41-238c23c45fbc"
      },
      "source": [
        "# show graph of different coherence score\n",
        "limit = 11; start = 2; step = 1;\n",
        "x = range(start, limit, step)\n",
        "plt.ylim(0.52, 0.65)\n",
        "plt.plot(x, coherence_values)\n",
        "plt.xlabel(\"Number of Topics\")\n",
        "plt.ylabel(\"Coherence Score\")\n",
        "plt.legend((\"Coherence_values\"), loc = 'best')\n",
        "plt.show()"
      ],
      "execution_count": 41,
      "outputs": [
        {
          "output_type": "display_data",
          "data": {
            "image/png": "[encoded data removed]",
            "text/plain": [
              "<Figure size 432x288 with 1 Axes>"
            ]
          },
          "metadata": {
            "tags": [],
            "needs_background": "light"
          }
        }
      ]
    },
    {
      "cell_type": "markdown",
      "metadata": {
        "id": "bDpKbGp2lJKF"
      },
      "source": [
        "For our model, it seems the num_topics = 9 creates the highest coherence score. We will choose **9 topics** for our number of topics"
      ]
    },
    {
      "cell_type": "code",
      "metadata": {
        "colab": {
          "base_uri": "https://localhost:8080/"
        },
        "id": "iugNgzF-nJcj",
        "outputId": "bb522e81-b9b2-451c-f7dd-c097ce9fc2ae"
      },
      "source": [
        "# print the coherence scores\n",
        "for m, cv in zip(x, coherence_values):\n",
        "  print(\"Num_topics = \", m, \" has coherence values of \", round(cv, 5))"
      ],
      "execution_count": 42,
      "outputs": [
        {
          "output_type": "stream",
          "text": [
            "Num_topics =  2  has coherence values of  0.53971\n",
            "Num_topics =  3  has coherence values of  0.55176\n",
            "Num_topics =  4  has coherence values of  0.57125\n",
            "Num_topics =  5  has coherence values of  0.59966\n",
            "Num_topics =  6  has coherence values of  0.60391\n",
            "Num_topics =  7  has coherence values of  0.60724\n",
            "Num_topics =  8  has coherence values of  0.59032\n",
            "Num_topics =  9  has coherence values of  0.63034\n",
            "Num_topics =  10  has coherence values of  0.60568\n"
          ],
          "name": "stdout"
        }
      ]
    },
    {
      "cell_type": "markdown",
      "metadata": {
        "id": "4K1p6F0sDvCy"
      },
      "source": [
        "# 8. Obtain the final Model and its Results to observe the possible topics"
      ]
    },
    {
      "cell_type": "code",
      "metadata": {
        "id": "vLZ572OEnjbY"
      },
      "source": [
        "final_model = gensim.models.ldamodel.LdaModel(corpus = corpus,\n",
        "                                               id2word = id2word,\n",
        "                                               num_topics = 9,\n",
        "                                               random_state = 100,\n",
        "                                               update_every = 1,\n",
        "                                               chunksize = 100, \n",
        "                                               passes = 10,\n",
        "                                               alpha = 'auto',\n",
        "                                               per_word_topics = True)"
      ],
      "execution_count": 45,
      "outputs": []
    },
    {
      "cell_type": "code",
      "metadata": {
        "colab": {
          "base_uri": "https://localhost:8080/"
        },
        "id": "QsSBvqBphhZp",
        "outputId": "692cf466-43ed-41db-a4d5-904bbde3248a"
      },
      "source": [
        "# Print topics\n",
        "pprint(final_model.print_topics())"
      ],
      "execution_count": 46,
      "outputs": [
        {
          "output_type": "stream",
          "text": [
            "[(0,\n",
            "  '0.297*\"room\" + 0.077*\"service\" + 0.068*\"clean\" + 0.042*\"internet\" + '\n",
            "  '0.039*\"outstanding\" + 0.038*\"breakfast\" + 0.028*\"small\" + 0.025*\"access\" + '\n",
            "  '0.024*\"wonderful\" + 0.016*\"comfortable\"'),\n",
            " (1,\n",
            "  '0.202*\"good\" + 0.073*\"stay\" + 0.055*\"price\" + 0.044*\"location\" + '\n",
            "  '0.041*\"poor\" + 0.039*\"restaurant\" + 0.028*\"soundproof\" + 0.020*\"food\" + '\n",
            "  '0.020*\"ratio\" + 0.019*\"performance\"'),\n",
            " (2,\n",
            "  '0.094*\"bad\" + 0.073*\"staff\" + 0.061*\"bathroom\" + 0.049*\"expensive\" + '\n",
            "  '0.038*\"employee\" + 0.035*\"dirty\" + 0.025*\"tiny\" + 0.023*\"quiet\" + '\n",
            "  '0.021*\"smelly\" + 0.019*\"courteous\"'),\n",
            " (3,\n",
            "  '0.169*\"hotel\" + 0.036*\"average\" + 0.032*\"love\" + 0.032*\"reservation\" + '\n",
            "  '0.031*\"back\" + 0.029*\"come\" + 0.024*\"expect\" + 0.024*\"shuttle\" + '\n",
            "  '0.023*\"never\" + 0.022*\"lose\"'),\n",
            " (4,\n",
            "  '0.258*\"great\" + 0.059*\"food\" + 0.051*\"free\" + 0.046*\"facility\" + '\n",
            "  '0.038*\"always\" + 0.037*\"experience\" + 0.028*\"location\" + 0.022*\"child\" + '\n",
            "  '0.022*\"available\" + 0.019*\"beautiful\"'),\n",
            " (5,\n",
            "  '0.123*\"excellent\" + 0.055*\"bar\" + 0.054*\"perfect\" + 0.041*\"location\" + '\n",
            "  '0.040*\"service\" + 0.033*\"guest\" + 0.030*\"pleasant\" + 0.019*\"complimentary\" '\n",
            "  '+ 0.016*\"treatment\" + 0.016*\"attend\"'),\n",
            " (6,\n",
            "  '0.174*\"bed\" + 0.117*\"loved\" + 0.030*\"room\" + 0.029*\"time\" + 0.024*\"quality\" '\n",
            "  '+ 0.023*\"smell\" + 0.020*\"wait\" + 0.019*\"sheet\" + 0.019*\"attentive\" + '\n",
            "  '0.019*\"area\"'),\n",
            " (7,\n",
            "  '0.127*\"clean\" + 0.113*\"check\" + 0.036*\"extremely\" + 0.034*\"old\" + '\n",
            "  '0.031*\"spacious\" + 0.030*\"welcoming\" + 0.026*\"noisy\" + 0.023*\"charge\" + '\n",
            "  '0.020*\"hour\" + 0.018*\"quite\"'),\n",
            " (8,\n",
            "  '0.233*\"staff\" + 0.177*\"friendly\" + 0.072*\"helpful\" + 0.056*\"nice\" + '\n",
            "  '0.031*\"desk\" + 0.028*\"comfortable\" + 0.028*\"front\" + 0.022*\"upgrade\" + '\n",
            "  '0.021*\"well\" + 0.017*\"lobby\"')]\n"
          ],
          "name": "stdout"
        }
      ]
    },
    {
      "cell_type": "markdown",
      "metadata": {
        "id": "GVkZZMMcnFYn"
      },
      "source": [
        "# 9. Describe the topics of final model\n",
        "- Topic 1 : **The Room**\n",
        "- Topic 2 : **What's \"good\" for customer?**\n",
        "- Topic 3 : **What's \"bad\" for customer?**\n",
        "- Topic 4 : **The hotel service**\n",
        "- Topic 5 : **What's \"great\" for customer?**\n",
        "- Topic 6 : **What's \"excellent\" for customer?**\n",
        "- Topic 7 : **The bed**\n",
        "- Topic 8 : **Cleanness**\n",
        "- Topic 9 : **The staff**"
      ]
    },
    {
      "cell_type": "code",
      "metadata": {
        "colab": {
          "base_uri": "https://localhost:8080/"
        },
        "id": "n1vakHqSGaFU",
        "outputId": "70abbd2a-37ae-46ef-c959-dbbd3fc650ff"
      },
      "source": [
        "pip install nbconvert"
      ],
      "execution_count": 47,
      "outputs": [
        {
          "output_type": "stream",
          "text": [
            "Requirement already satisfied: nbconvert in /usr/local/lib/python3.6/dist-packages (5.6.1)\n",
            "Requirement already satisfied: pandocfilters>=1.4.1 in /usr/local/lib/python3.6/dist-packages (from nbconvert) (1.4.3)\n",
            "Requirement already satisfied: jinja2>=2.4 in /usr/local/lib/python3.6/dist-packages (from nbconvert) (2.11.3)\n",
            "Requirement already satisfied: pygments in /usr/local/lib/python3.6/dist-packages (from nbconvert) (2.6.1)\n",
            "Requirement already satisfied: nbformat>=4.4 in /usr/local/lib/python3.6/dist-packages (from nbconvert) (5.1.2)\n",
            "Requirement already satisfied: testpath in /usr/local/lib/python3.6/dist-packages (from nbconvert) (0.4.4)\n",
            "Requirement already satisfied: entrypoints>=0.2.2 in /usr/local/lib/python3.6/dist-packages (from nbconvert) (0.3)\n",
            "Requirement already satisfied: bleach in /usr/local/lib/python3.6/dist-packages (from nbconvert) (3.3.0)\n",
            "Requirement already satisfied: mistune<2,>=0.8.1 in /usr/local/lib/python3.6/dist-packages (from nbconvert) (0.8.4)\n",
            "Requirement already satisfied: jupyter-core in /usr/local/lib/python3.6/dist-packages (from nbconvert) (4.7.1)\n",
            "Requirement already satisfied: defusedxml in /usr/local/lib/python3.6/dist-packages (from nbconvert) (0.6.0)\n",
            "Requirement already satisfied: traitlets>=4.2 in /usr/local/lib/python3.6/dist-packages (from nbconvert) (4.3.3)\n",
            "Requirement already satisfied: MarkupSafe>=0.23 in /usr/local/lib/python3.6/dist-packages (from jinja2>=2.4->nbconvert) (1.1.1)\n",
            "Requirement already satisfied: jsonschema!=2.5.0,>=2.4 in /usr/local/lib/python3.6/dist-packages (from nbformat>=4.4->nbconvert) (2.6.0)\n",
            "Requirement already satisfied: ipython-genutils in /usr/local/lib/python3.6/dist-packages (from nbformat>=4.4->nbconvert) (0.2.0)\n",
            "Requirement already satisfied: packaging in /usr/local/lib/python3.6/dist-packages (from bleach->nbconvert) (20.9)\n",
            "Requirement already satisfied: webencodings in /usr/local/lib/python3.6/dist-packages (from bleach->nbconvert) (0.5.1)\n",
            "Requirement already satisfied: six>=1.9.0 in /usr/local/lib/python3.6/dist-packages (from bleach->nbconvert) (1.15.0)\n",
            "Requirement already satisfied: decorator in /usr/local/lib/python3.6/dist-packages (from traitlets>=4.2->nbconvert) (4.4.2)\n",
            "Requirement already satisfied: pyparsing>=2.0.2 in /usr/local/lib/python3.6/dist-packages (from packaging->bleach->nbconvert) (2.4.7)\n"
          ],
          "name": "stdout"
        }
      ]
    },
    {
      "cell_type": "code",
      "metadata": {
        "id": "K5gkduhxJkJ2"
      },
      "source": [
        ""
      ],
      "execution_count": null,
      "outputs": []
    }
  ]
}